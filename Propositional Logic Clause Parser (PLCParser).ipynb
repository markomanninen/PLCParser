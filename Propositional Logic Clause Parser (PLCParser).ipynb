{
 "cells": [
  {
   "cell_type": "markdown",
   "metadata": {},
   "source": [
    "\n",
    "<img src=\"plcparser_icon.png\" />\n",
    "\n",
    "<center>$A \\land B \\land C$</center>\n",
    "\n",
    "# Propositional Logic Clause Parser (PLCParser)\n",
    "\n",
    "This library can be used to parse string input that contains seven fundamental [propositional logic](https://en.wikipedia.org/wiki/Logical_conjunction) symbols: \n",
    "\n",
    "1. $NOT$\n",
    "2. $AND$ <=> $NAND$\n",
    "3. $XOR$ <=> $XNOR$\n",
    "4. $OR$ <=> $NOR$\n",
    "\n",
    "Library takes a string input and produces a multidimensional list of given literals with [parseInput](#Simple-example) function. Structure of the nested output list is created to contain all information required to use it programmatically for boolean operations. [Validate](#Validate) method is used to check if given input is in correct syntax form. You can [deformat](#Deformat) well formatted list structure back to literal representation. Furthermore [evaluation](#Evaluate) of the given logic clause or parsed list structure can be done with an optional truth table.\n",
    "\n",
    "<blockquote>Library is implemented in three programming languages: [Python](#Python-version), [PHP](#PHP-version) and [Javascript](#Javascript-version). For both PHP and Javascript version, see [PLCParser demo application](https://plcparser.herokuapp.com/) deployed in Heroku for live demonstration.</blockquote>"
   ]
  },
  {
   "cell_type": "markdown",
   "metadata": {},
   "source": [
    "## Python version\n",
    "\n",
    "Download module pyPLCParser from: https://github.com/markomanninen/PLCParser"
   ]
  },
  {
   "cell_type": "code",
   "execution_count": 1,
   "metadata": {
    "collapsed": false
   },
   "outputs": [
    {
     "name": "stdout",
     "output_type": "stream",
     "text": [
      "[1, -2, 0]\n"
     ]
    }
   ],
   "source": [
    "# load library\n",
    "from pyPLCParser import parseInput\n",
    "# set input\n",
    "i = \"(1 AND 0)\"\n",
    "# parse input\n",
    "o = parseInput(i)\n",
    "# print output\n",
    "print(o)"
   ]
  },
  {
   "cell_type": "markdown",
   "metadata": {},
   "source": [
    "From the output <code>(['1', -2, '2'])</code> we can notice that negative number -2 is used to mark $AND$ operator. You could also input: <code>(1 &amp; 2)</code> or <code>(1 ∧ 2)</code> to get the same result. $AND$ keyword is case insensitive so use what ever format you like: <code>AnD</code>, <code>and</code>, <code>anD</code>, and so forth.\n",
    "\n",
    "For an operator you can use either $AND, OR, NOT, XOR$ keywords or single ascii characters on the clause:  $\\&$, $|$, $\\\\!$, ^ respectively. These corresponding mathematical symbols are also accepted: $∧$, $∨$, $¬$, $⊕$.\n",
    "\n",
    "Negative logical gate symbols are also supported: $NAND$ ($/$, $↑$), $XNOR$ ($=$, $↔$) and $NOR$ ($†$, $↓$). It is recommended that you use either word or mathematical symbols, because conventions of the character codes are different on the different programming systems."
   ]
  },
  {
   "cell_type": "code",
   "execution_count": 2,
   "metadata": {
    "collapsed": false
   },
   "outputs": [
    {
     "name": "stdout",
     "output_type": "stream",
     "text": [
      "[1, -4, 0] [1, -3, 0]\n",
      "[1, -5, 0]\n"
     ]
    }
   ],
   "source": [
    "# use | for OR and ⊕ for XOR\n",
    "print(parseInput(\"(1 | 0)\"), parseInput(\"(1 ⊕ 0)\"))\n",
    "# use NAND\n",
    "print(parseInput(\"(1 ↑ 0)\"))"
   ]
  },
  {
   "cell_type": "markdown",
   "metadata": {},
   "source": [
    "But say, you have a more complex nested clause in your hands, what is the outcome?"
   ]
  },
  {
   "cell_type": "code",
   "execution_count": 3,
   "metadata": {
    "collapsed": false
   },
   "outputs": [
    {
     "data": {
      "text/plain": [
       "['A', -4, ['B', -2, [[-1, 'C'], -2, ['D', -3, 'E']]]]"
      ]
     },
     "execution_count": 3,
     "metadata": {},
     "output_type": "execute_result"
    }
   ],
   "source": [
    "i = \"(A or (B and (!C and (D xor E))))\"\n",
    "parseInput(i)"
   ]
  },
  {
   "cell_type": "markdown",
   "metadata": {},
   "source": [
    "PLCParser tries to deformalize and interpret the [boolean operator precedence]( http://stackoverflow.com/questions/12494568/boolean-operators-precedence). But sometimes it is better that you decide and choose correctly the format of the nested set / parentheses to get the right result. [Order of the precedence](https://en.wikipedia.org/wiki/Logical_connective#Order_of_precedence) differs by authors anyway. In PLCParser this order is used: $NOT$, $AND$, $XOR$, $OR$.\n",
    "\n",
    "Without parentheses similar input would be interpreted like this:"
   ]
  },
  {
   "cell_type": "code",
   "execution_count": 4,
   "metadata": {
    "collapsed": false
   },
   "outputs": [
    {
     "data": {
      "text/plain": [
       "\"( 'A' or ( ( 'B' and ( not 'C' ) ) and 'D' ) ) or 'E'\""
      ]
     },
     "execution_count": 4,
     "metadata": {},
     "output_type": "execute_result"
    }
   ],
   "source": [
    "from pyPLCParser import deformatInput\n",
    "i = \"A or B and !C and D or E\"\n",
    "deformatInput(parseInput(i))"
   ]
  },
  {
   "cell_type": "markdown",
   "metadata": {},
   "source": [
    "### Precedence\n",
    "\n",
    "In case one needs to adjust the order of the precedence of the operators, it can be done via special argument. In that case you need to import all operator variables and use them to set the order:"
   ]
  },
  {
   "cell_type": "code",
   "execution_count": 5,
   "metadata": {
    "collapsed": false
   },
   "outputs": [
    {
     "name": "stdout",
     "output_type": "stream",
     "text": [
      "[[[1, -2, 0], -5, [1, -4, 1]], -7, 0]\n",
      "[[1, -2, [0, -5, 1]], -4, [1, -7, 0]]\n"
     ]
    }
   ],
   "source": [
    "from pyPLCParser import PLCParser, NOT_OPERATOR, AND_OPERATOR, XOR_OPERATOR, \\\n",
    "                        OR_OPERATOR, NAND_OPERATOR, XNOR_OPERATOR, NOR_OPERATOR\n",
    "\n",
    "# input without nested parentheses\n",
    "i = \"(1 and 0 nand 1 or 1 nor 0)\"\n",
    "# init object\n",
    "c = PLCParser()\n",
    "# output default nesting\n",
    "print(c.parse(i))\n",
    "\n",
    "# set up your own operator predecence. note that usually not operator is the last\n",
    "# while the least weight operators are given first.\n",
    "operator_precedence = (OR_OPERATOR, NOR_OPERATOR, XOR_OPERATOR, XNOR_OPERATOR, \n",
    "                       AND_OPERATOR, NAND_OPERATOR, NOT_OPERATOR)\n",
    "# use argument\n",
    "c = PLCParser(operator_precedence=operator_precedence)\n",
    "# output new nested set\n",
    "print(c.parse(i))"
   ]
  },
  {
   "cell_type": "markdown",
   "metadata": {},
   "source": [
    "Like you can see, the nesting of the lists is done a bit different on these two case."
   ]
  },
  {
   "cell_type": "markdown",
   "metadata": {},
   "source": [
    "### Literals\n",
    "\n",
    "In above examples only single letters and numbers were used. That is ok as long as they are not reserved keywords or the chosen parentheses and literal wrapper characters. To use sentences that contain spaces and special characters it is safer to make it this way:"
   ]
  },
  {
   "cell_type": "code",
   "execution_count": 6,
   "metadata": {
    "collapsed": false
   },
   "outputs": [
    {
     "data": {
      "text/plain": [
       "['Queen Elizabeth', -2, 'Philip, Duke of Edinburgh']"
      ]
     },
     "execution_count": 6,
     "metadata": {},
     "output_type": "execute_result"
    }
   ],
   "source": [
    "i = \"('Queen Elizabeth' & 'Philip, Duke of Edinburgh')\"\n",
    "parseInput(i)"
   ]
  },
  {
   "cell_type": "markdown",
   "metadata": {},
   "source": [
    "By default literals are expected to be wrapped with single <code>'</code> or double <code>\"</code> quotes. Parentheses are assumed to be <code>(</code> for the right parentheses and <code>)</code> for the left.\n",
    "\n",
    "If default parentheses and literal wrappers are not suitable for your needs, you can change them and parse input accordingly:"
   ]
  },
  {
   "cell_type": "code",
   "execution_count": 7,
   "metadata": {
    "collapsed": false
   },
   "outputs": [
    {
     "data": {
      "text/plain": [
       "[['Use', -2, 'as you'], -2, 'wish']"
      ]
     },
     "execution_count": 7,
     "metadata": {},
     "output_type": "execute_result"
    }
   ],
   "source": [
    "from pyPLCParser import PLCParser\n",
    "\n",
    "c = PLCParser(parentheses=['[', ']'], wrappers=['´'])\n",
    "\n",
    "i = \"[´Use´ and ´as you´ and wish]\"\n",
    "\n",
    "c.parse(i)"
   ]
  },
  {
   "cell_type": "markdown",
   "metadata": {},
   "source": [
    "### Negation\n",
    "\n",
    "Using negation ($NOT$ , $!$ , $¬$) keywords do shape the structure of the output. $NOT$ will add $-1$ value to the result before the item or node.\n",
    "\n",
    "As a unary operator, negation can be done for the item or to the group of items:"
   ]
  },
  {
   "cell_type": "code",
   "execution_count": 8,
   "metadata": {
    "collapsed": false
   },
   "outputs": [
    {
     "data": {
      "text/plain": [
       "[[-1, 'A'], -2, [-1, ['B', -4, 'C']]]"
      ]
     },
     "execution_count": 8,
     "metadata": {},
     "output_type": "execute_result"
    }
   ],
   "source": [
    "parseInput(\"\"\"\n",
    "\n",
    "(!A and !(B or C))\n",
    "\n",
    "\"\"\")"
   ]
  },
  {
   "cell_type": "markdown",
   "metadata": {},
   "source": [
    "Same input could be written many ways, for example:\n",
    "\n",
    "<code>(!A and !B and !C)</code> is same as <code>(!A !B !C)</code>\n",
    "\n",
    "Note that the meaning of <code>!(A and B and C)</code> however is different. It means the negation of a group where all items <code>A</code>, <code>B</code> and <code>C</code> exists. If only one or two of the group items existed, then negation wouldn't be true."
   ]
  },
  {
   "cell_type": "markdown",
   "metadata": {},
   "source": [
    "### Multinary operations\n",
    "\n",
    "In addition to unary and binary operations, this library also handles multinary operation by prefix notation:"
   ]
  },
  {
   "cell_type": "code",
   "execution_count": 9,
   "metadata": {
    "collapsed": false
   },
   "outputs": [
    {
     "name": "stdout",
     "output_type": "stream",
     "text": [
      "[[[1, -2, 1], -2, 1], -2, 0]\n",
      "(& 1 1 1 0)  =  ( ( 1 and 1 ) and 1 ) and 0\n"
     ]
    }
   ],
   "source": [
    "# multiple and operands\n",
    "i1 = '(& 1 1 1 0)'\n",
    "o1 = parseInput(i1)\n",
    "print(o1)\n",
    "print(i1, \" = \", deformatInput(o1))"
   ]
  },
  {
   "cell_type": "markdown",
   "metadata": {},
   "source": [
    "### XOR operator\n",
    "\n",
    "This brings us to the $XOR$ operator. $XOR$ is an exclusive or, which states that either <code>A</code> or <code>B</code> should exist, but not both at the same time. Same behaviour could be achieved by $OR$, $AND$, and $NOT$ clause groups. Let us demonstrate it by few examples:"
   ]
  },
  {
   "cell_type": "code",
   "execution_count": 10,
   "metadata": {
    "collapsed": false
   },
   "outputs": [
    {
     "name": "stdout",
     "output_type": "stream",
     "text": [
      "['A', -3, 'B']\n",
      "[['A', -4, 'B'], -2, [-1, ['A', -2, 'B']]]\n",
      "[['A', -2, [-1, 'B']], -4, [[-1, 'A'], -2, 'B']]\n",
      "[['A', -4, [-1, 'B']], -2, [[-1, 'A'], -4, 'B']]\n"
     ]
    }
   ],
   "source": [
    "# xor logic -> one of the group, but not all\n",
    "i1 = '(A ^ B)' # or just (^(A B))\n",
    "o1 = parseInput(i1)\n",
    "print(o1)\n",
    "\n",
    "# xor logic with and, or, and not operators #1\n",
    "i2 = '((A or B) and !(A and B))'\n",
    "o2 = parseInput(i2)\n",
    "print(o2)\n",
    "\n",
    "# xor logic with and, or, and not operators #2\n",
    "i3 = '((A and !B) or (!A and B))'\n",
    "o3 = parseInput(i3)\n",
    "print(o3)\n",
    "\n",
    "# xor logic with and, or, and not operators #3\n",
    "i4 = '((A or !B) and (!A or B))'\n",
    "o4 = parseInput(i4)\n",
    "print(o4)"
   ]
  },
  {
   "cell_type": "markdown",
   "metadata": {},
   "source": [
    "Apparently using $XOR$ can save a lot of space!"
   ]
  },
  {
   "cell_type": "markdown",
   "metadata": {},
   "source": [
    "### Validate\n",
    "\n",
    "ValidateInput method is used to validate given clause in string format. It can be used to roughly check that parentheses and literals are correctly formed. Then it is safer to use [parseInput](#Simple-example) and [evaluateInput](#Evaluate) functions."
   ]
  },
  {
   "cell_type": "code",
   "execution_count": 11,
   "metadata": {
    "collapsed": false
   },
   "outputs": [
    {
     "name": "stdout",
     "output_type": "stream",
     "text": [
      "False\n",
      "True\n"
     ]
    }
   ],
   "source": [
    "from pyPLCParser import validateInput\n",
    "\n",
    "# input has extra )\n",
    "print (validateInput('(A or B))'))\n",
    "# input should be ok\n",
    "print (validateInput('(A or B)'))"
   ]
  },
  {
   "cell_type": "markdown",
   "metadata": {},
   "source": [
    "### Deformat\n",
    "\n",
    "Of cource it is good to have a method to deformat native list structure back to the string clause representation.\n",
    "\n",
    "With an optional argument, one can use special character abbreviations for logic operators. By default formal keywords are used on output. Operator representation types are: word, char and math:"
   ]
  },
  {
   "cell_type": "code",
   "execution_count": 12,
   "metadata": {
    "collapsed": false
   },
   "outputs": [
    {
     "name": "stdout",
     "output_type": "stream",
     "text": [
      "'A' and 'B'\n",
      "'A' & 'B'\n",
      "'A' ∧ 'B'\n"
     ]
    }
   ],
   "source": [
    "from pyPLCParser import PLCParser\n",
    "c = PLCParser()\n",
    "# set input (A and B)\n",
    "i = ['A', -2, 'B']\n",
    "print(c.deformat(i, operator_type=\"word\"))\n",
    "print(c.deformat(i, operator_type=\"char\"))\n",
    "print(c.deformat(i, operator_type=\"math\"))"
   ]
  },
  {
   "cell_type": "markdown",
   "metadata": {},
   "source": [
    "### Evaluate\n",
    "\n",
    "EvaluateInput function takes propositional logic clause in string or array format and evaluates it. Usually, if everything is correct on input, output is either true or false."
   ]
  },
  {
   "cell_type": "code",
   "execution_count": 13,
   "metadata": {
    "collapsed": false
   },
   "outputs": [
    {
     "name": "stdout",
     "output_type": "stream",
     "text": [
      "(1 or 0) => True\n",
      "(1 and 0) => False\n",
      "(true and false) => False\n",
      "(p and q) => False\n"
     ]
    }
   ],
   "source": [
    "from pyPLCParser import evaluateInput\n",
    "\n",
    "i = \"(1 or 0)\"\n",
    "o = evaluateInput(i)\n",
    "print(\"%s => %s\" % (i, o))\n",
    "\n",
    "i = \"(1 and 0)\"\n",
    "o = evaluateInput(i)\n",
    "print(\"%s => %s\" % (i, o))\n",
    "\n",
    "i = \"(true and false)\"\n",
    "o = evaluateInput(i)\n",
    "print(\"%s => %s\" % (i, o))\n",
    "\n",
    "i = \"(p and q)\"\n",
    "truth_table = {'p': True, 'q': False}\n",
    "o = evaluateInput(i, truth_table)\n",
    "print(\"%s => %s\" % (i, o))"
   ]
  },
  {
   "cell_type": "markdown",
   "metadata": {},
   "source": [
    "The last example uses truth table to define, how different operands should be interpreted. By default only numbers 1 and 0, and booleans true and false, can be interpreted accordingly.\n",
    "\n",
    "Last example demonstrates $NAND$, $XNOR$ and $NOR$ operators:"
   ]
  },
  {
   "cell_type": "code",
   "execution_count": 14,
   "metadata": {
    "collapsed": false
   },
   "outputs": [
    {
     "name": "stdout",
     "output_type": "stream",
     "text": [
      "(1 nand 1) => False\n",
      "(1 xnor 0) => False\n",
      "(1 nor 0) => False\n"
     ]
    }
   ],
   "source": [
    "i = \"(1 nand 1)\"\n",
    "o = evaluateInput(i)\n",
    "print(\"%s => %s\" % (i, o))\n",
    "\n",
    "i = \"(1 xnor 0)\"\n",
    "o = evaluateInput(i)\n",
    "print(\"%s => %s\" % (i, o))\n",
    "\n",
    "i = \"(1 nor 0)\"\n",
    "o = evaluateInput(i)\n",
    "print(\"%s => %s\" % (i, o))"
   ]
  },
  {
   "cell_type": "markdown",
   "metadata": {},
   "source": [
    "## PHP version\n",
    "\n",
    "PHP version of the PLCParser class is practically same as Python having the same API methods and functionality. For example parseInput is called something like this:"
   ]
  },
  {
   "cell_type": "code",
   "execution_count": 15,
   "metadata": {
    "collapsed": false
   },
   "outputs": [
    {
     "data": {
      "text/html": [
       "\n",
       "require_once('./src/elonmedia/plcparser/php/PLCParser.php')\n",
       "print_r(PLCParser::parseInput(\"('A' or 'B')\"));"
      ],
      "text/plain": [
       "<IPython.core.display.HTML object>"
      ]
     },
     "metadata": {},
     "output_type": "display_data"
    }
   ],
   "source": [
    "%%html\n",
    "\n",
    "require_once('./src/elonmedia/plcparser/php/PLCParser.php')\n",
    "print_r(PLCParser::parseInput(\"('A' or 'B')\"));"
   ]
  },
  {
   "cell_type": "markdown",
   "metadata": {},
   "source": [
    "And output would be:"
   ]
  },
  {
   "cell_type": "code",
   "execution_count": 16,
   "metadata": {
    "collapsed": false
   },
   "outputs": [
    {
     "data": {
      "text/html": [
       "Array\n",
       "(\n",
       "    [0] => \n",
       "    [1] => Array\n",
       "        (\n",
       "            [0] => Array\n",
       "                (\n",
       "                    [0] => Array\n",
       "                        (\n",
       "                            [0] => A\n",
       "                            [2] => B\n",
       "                        )\n",
       "\n",
       "                )\n",
       "\n",
       "        )\n",
       "\n",
       ")"
      ],
      "text/plain": [
       "<IPython.core.display.HTML object>"
      ]
     },
     "metadata": {},
     "output_type": "display_data"
    }
   ],
   "source": [
    "%%html\n",
    "Array\n",
    "(\n",
    "    [0] => \n",
    "    [1] => Array\n",
    "        (\n",
    "            [0] => Array\n",
    "                (\n",
    "                    [0] => Array\n",
    "                        (\n",
    "                            [0] => A\n",
    "                            [2] => B\n",
    "                        )\n",
    "\n",
    "                )\n",
    "\n",
    "        )\n",
    "\n",
    ")"
   ]
  },
  {
   "cell_type": "markdown",
   "metadata": {},
   "source": [
    "## Javascript version\n",
    "\n",
    "Same applies to Javascript library. You need to include library first and then you can use same API methods (validateInput, parseInput, EvaluateInput, deformatInput) or build object fromthe  PLCParser \"class\" for more specific usage:"
   ]
  },
  {
   "cell_type": "code",
   "execution_count": 17,
   "metadata": {
    "collapsed": false
   },
   "outputs": [
    {
     "data": {
      "text/html": [
       "\n",
       "<script src=\"./dist/PLCParser.min.js\"></script>\n",
       "\n",
       "<script>\n",
       "\n",
       "var v = PLCParser.validateInput(\"(A and B (C | D) !F)\")\n",
       "\n",
       "console.log(v)\n",
       "\n",
       "var p = PLCParser.parseInput(\"(A and B (C | D) !F)\")\n",
       "\n",
       "console.log(p)\n",
       "\n",
       "var e = PLCParser.evaluateInput(\"(true or false)\")\n",
       "\n",
       "console.log(e)\n",
       "\n",
       "var d = PLCParser.deformatInput([-1, ['A', 'B']])\n",
       "\n",
       "console.log(d)\n",
       "\n",
       "</script>"
      ],
      "text/plain": [
       "<IPython.core.display.HTML object>"
      ]
     },
     "metadata": {},
     "output_type": "display_data"
    }
   ],
   "source": [
    "%%html\n",
    "\n",
    "<script src=\"./dist/PLCParser.min.js\"></script>\n",
    "\n",
    "<script>\n",
    "\n",
    "var v = PLCParser.validateInput(\"(A and B (C | D) !F)\")\n",
    "\n",
    "console.log(v)\n",
    "\n",
    "var p = PLCParser.parseInput(\"(A and B (C | D) !F)\")\n",
    "\n",
    "console.log(p)\n",
    "\n",
    "var e = PLCParser.evaluateInput(\"(true or false)\")\n",
    "\n",
    "console.log(e)\n",
    "\n",
    "var d = PLCParser.deformatInput([-1, ['A', 'B']])\n",
    "\n",
    "console.log(d)\n",
    "\n",
    "</script>"
   ]
  },
  {
   "cell_type": "markdown",
   "metadata": {},
   "source": [
    "For both PHP and Javascript version, see [PLCParser demo application](https://plcparser.herokuapp.com/) deployed in [Heroku](https://www.heroku.com/) for live testing."
   ]
  },
  {
   "cell_type": "markdown",
   "metadata": {},
   "source": [
    "## The [MIT](https://choosealicense.com/licenses/mit/) License\n",
    "Copyright &copy; 2017 Marko Manninen"
   ]
  }
 ],
 "metadata": {
  "anaconda-cloud": {},
  "kernelspec": {
   "display_name": "Python [conda root]",
   "language": "python",
   "name": "conda-root-py"
  },
  "language_info": {
   "codemirror_mode": {
    "name": "ipython",
    "version": 3
   },
   "file_extension": ".py",
   "mimetype": "text/x-python",
   "name": "python",
   "nbconvert_exporter": "python",
   "pygments_lexer": "ipython3",
   "version": "3.5.2"
  }
 },
 "nbformat": 4,
 "nbformat_minor": 1
}
