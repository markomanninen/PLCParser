{
 "cells": [
  {
   "cell_type": "markdown",
   "metadata": {},
   "source": [
    "# Propositional Logic Clause Parser (PLCParser)\n",
    "\n",
    "This library is used to parse string input that contains five fundamental [propositional logic](https://en.wikipedia.org/wiki/Logical_conjunction) symbols: \n",
    "\n",
    "1. $AND$\n",
    "2. $OR$\n",
    "3. $NOT$\n",
    "4. $XOR$\n",
    "5. $XAND$\n",
    "\n",
    "$IS$ operator can also be used, but one should rather not use, because it is mostly useless tautology. (IS A) is same as (A) anyway.\n",
    "\n",
    "Library takes a string input and produces a multidimensional list of given literals with [parseInput](#Simple-example) function. Structure of the nested output list is created to contain all information required to use it programmatically for boolean operations. [Validate](#Validate) method is used to check if given input is in correct syntax form. You can [deformat](#Deformat) well formatted list structure back to literal representation. Furthermore [evaluation](#Evaluate) of the given clause or structure can be done with an optional interpretation table.\n",
    "\n",
    "<blockquote>Library is implemented in three languages: [Python](#Python-version), [PHP](#PHP-version) and [Javascript](#Javascript-version). For both PHP and Javascript version, see [PLCParser demo application](https://plcparser.herokuapp.com/) deployed in Heroku for live testing.</blockquote>\n",
    "\n",
    "## Python version\n",
    "\n",
    "### Simple example"
   ]
  },
  {
   "cell_type": "code",
   "execution_count": 1,
   "metadata": {
    "collapsed": false
   },
   "outputs": [
    {
     "name": "stdout",
     "output_type": "stream",
     "text": [
      "(True, [['1', '2']])\n"
     ]
    }
   ],
   "source": [
    "# load library\n",
    "from pyPLCParser import parseInput\n",
    "# set input\n",
    "i = \"(1 AND 2)\"\n",
    "# parse input\n",
    "o = parseInput(i)\n",
    "# print output\n",
    "print(o)"
   ]
  },
  {
   "cell_type": "markdown",
   "metadata": {},
   "source": [
    "From the output <code>(True, [['1', '2']])</code> we can read that mutual boolean starting point for the interpretation of the input is *and* which is *True*. This is the default starting point. You could also just simply input: <code>(1 2)</code> to get the same result.\n",
    "\n",
    "To demonstrate opposite starting point, let us use | character for OR operator. You can use either $AND, OR, NOT, XOR, XAND$ keywords or single characters on the clause:  $\\&$, $|$, $\\\\!$, ^, $+$ respectively. Also corresponding mathematical symbols are accepted: $∧$, $∨$, $¬$,  $⊕$, $⊖$."
   ]
  },
  {
   "cell_type": "code",
   "execution_count": 2,
   "metadata": {
    "collapsed": false
   },
   "outputs": [
    {
     "data": {
      "text/plain": [
       "(False, [['1', '2']])"
      ]
     },
     "execution_count": 2,
     "metadata": {},
     "output_type": "execute_result"
    }
   ],
   "source": [
    "i = \"(1 | 2)\"\n",
    "parseInput(i)"
   ]
  },
  {
   "cell_type": "markdown",
   "metadata": {},
   "source": [
    "But say, you have a more complex nested clause in your hands, what is the outcome?"
   ]
  },
  {
   "cell_type": "code",
   "execution_count": 3,
   "metadata": {
    "collapsed": false
   },
   "outputs": [
    {
     "data": {
      "text/plain": [
       "(False, [['A', ['B', 'C', ['D', 'E']]]])"
      ]
     },
     "execution_count": 3,
     "metadata": {},
     "output_type": "execute_result"
    }
   ],
   "source": [
    "i = \"(A or (B C (D E)))\"\n",
    "parseInput(i)"
   ]
  },
  {
   "cell_type": "markdown",
   "metadata": {},
   "source": [
    "From the output we can read that the first level must be interpreted as an OR clause (<code>False</code>). It is actually the only mandatory boolean keyword you need to use here because the next level is automaticly regarded as an AND clause. Thus the deepest level (D E) is again an OR clause.\n",
    "\n",
    "If you don't give a keyword for the first level <code>(A or (B C (D E)))</code>, it is assumed to be AND, and the next level is OR, and the next AND, and so forth. \n",
    "\n",
    "This represents the important mutual boolean change of the interpretation of the nested levels. Most of the meaningful boolean clauses can be represented in this way. For example, if you consider this:\n",
    "\n",
    "<code>((A or B) and (C and D))</code>\n",
    "\n",
    "it would be inappropriate in syntax, because <code>(C and D)</code> is actually interpreted <code>(C or D)</code> by the parser. But right way would be to write it:\n",
    "\n",
    "<code>((A or B) and C and D)</code>\n",
    "\n",
    "or just\n",
    "\n",
    "<code>((A B) C D)</code>\n",
    "\n",
    "which of course looks a bit ambiguous at first, but is clear for the parser. PLCParser <u>does not</u> try to deformalize and interpret the [boolean operator precedence]( http://stackoverflow.com/questions/12494568/boolean-operators-precedence) in any other way. You have to decide and choose correctly format nested set / parentheses to get the right results. [Order of the precedence](https://en.wikipedia.org/wiki/Logical_connective#Order_of_precedence) differs by authors anyway."
   ]
  },
  {
   "cell_type": "markdown",
   "metadata": {},
   "source": [
    "### Literals\n",
    "\n",
    "In above examples only single word letters were used. That is ok as long as they are not reserved keywords or the chosen parenthesis and literal wrapper characters. To use sentences that contain spaces and special characters it is safer to make it this way:"
   ]
  },
  {
   "cell_type": "code",
   "execution_count": 4,
   "metadata": {
    "collapsed": false
   },
   "outputs": [
    {
     "data": {
      "text/plain": [
       "(True, [['Queen Elizabeth', 'Philip, Duke of Edinburgh']])"
      ]
     },
     "execution_count": 4,
     "metadata": {},
     "output_type": "execute_result"
    }
   ],
   "source": [
    "i = \"('Queen Elizabeth' & 'Philip, Duke of Edinburgh')\"\n",
    "parseInput(i)"
   ]
  },
  {
   "cell_type": "markdown",
   "metadata": {},
   "source": [
    "By default literals are expected to be wrapped with single ' or double \" quotes. Parentheses are assumed to be ().\n",
    "\n",
    "If default parentheses and literal wrappers are not suitable, you can change them and parse input accordingly:"
   ]
  },
  {
   "cell_type": "code",
   "execution_count": 5,
   "metadata": {
    "collapsed": false
   },
   "outputs": [
    {
     "data": {
      "text/plain": [
       "(True, [['Use', 'as you', 'wish']])"
      ]
     },
     "execution_count": 5,
     "metadata": {},
     "output_type": "execute_result"
    }
   ],
   "source": [
    "from pyPLCParser import PLCParser\n",
    "\n",
    "c = PLCParser(parentheses=['[', ']'], wrappers=['´'])\n",
    "\n",
    "i = \"[´Use´ ´as you´ wish]\"\n",
    "\n",
    "c.parse(i)"
   ]
  },
  {
   "cell_type": "markdown",
   "metadata": {},
   "source": [
    "### Negation, XOR and XAND\n",
    "\n",
    "Using negation (NOT / !), exclusive or (XOR / ^) or exclusive and (XAND / +) keywords do shape the structure of the output. NOT will add -1 value to the result before the item or node. Similarly XOR will add -2 and XAND will add -3 value to the list.\n",
    "\n",
    "Negation can be done for item or to the group of items:"
   ]
  },
  {
   "cell_type": "code",
   "execution_count": 6,
   "metadata": {
    "collapsed": false
   },
   "outputs": [
    {
     "data": {
      "text/plain": [
       "(True, [[-1, 'A', -1, ['B', 'C']]])"
      ]
     },
     "execution_count": 6,
     "metadata": {},
     "output_type": "execute_result"
    }
   ],
   "source": [
    "parseInput(\"\"\"\n",
    "\n",
    "(!A and !(B or C))\n",
    "\n",
    "\"\"\")"
   ]
  },
  {
   "cell_type": "markdown",
   "metadata": {},
   "source": [
    "Again same inut could be written many ways:\n",
    "\n",
    "<code>(!A and !B and !C) -> (!A !B !C)</code> \n",
    "\n",
    "<code>(!(A or B or C)) -> (!(A B C))</code> \n",
    "\n",
    "Note that the meaning of <code>!(A B C)</code> however is different. It means the negation of a group where all items A, B and C exists. If only one or two of the group items existed, then negation wouldn't be true.\n",
    "\n",
    "This brings us to the XOR operator. XOR is an exclusive OR, which states that either A or B should exist, but not both at the same time. Same behaviour could be achieved by OR, AND, and NOT clause groups. Let us demonstrate it by few examples:"
   ]
  },
  {
   "cell_type": "code",
   "execution_count": 7,
   "metadata": {
    "collapsed": false
   },
   "outputs": [
    {
     "name": "stdout",
     "output_type": "stream",
     "text": [
      "(True, [[-2, ['A', 'B']]])\n",
      "(True, [[['A', 'B'], [-1, ['A', 'B']]]])\n",
      "(False, [[['A', -1, 'B'], [-1, 'A', 'B']]])\n",
      "(True, [[['A', -1, 'B'], [-1, 'A', 'B']]])\n"
     ]
    }
   ],
   "source": [
    "# xor logic -> one of the group, but not all\n",
    "i1 = '(^(A or B))' # or just (^(A B))\n",
    "o1 = parseInput(i1)\n",
    "print(o1)\n",
    "\n",
    "# xor logic with and, or, and not operators #1\n",
    "i2 = '((A or B) and (!(A and B)))'\n",
    "o2 = parseInput(i2)\n",
    "print(o2)\n",
    "\n",
    "# xor logic with and, or, and not operators #2\n",
    "i3 = '((A and !B) or (!A and B))'\n",
    "o3 = parseInput(i3)\n",
    "print(o3)\n",
    "\n",
    "# xor logic with and, or, and not operators #3\n",
    "i4 = '((A or !B) and (!A or B))'\n",
    "o4 = parseInput(i4)\n",
    "print(o4)"
   ]
  },
  {
   "cell_type": "markdown",
   "metadata": {},
   "source": [
    "Because XOR is a group operator in PLCParser, you can use it only before nested groups. That also means there can be more than two items in a group:"
   ]
  },
  {
   "cell_type": "code",
   "execution_count": 8,
   "metadata": {
    "collapsed": false
   },
   "outputs": [
    {
     "name": "stdout",
     "output_type": "stream",
     "text": [
      "(True, [[-2, ['A', 'B', 'C']]])\n",
      "(True, [[['A', 'B', 'C'], [-1, ['A', 'B', 'C']]]])\n",
      "(True, [[['A', -1, 'B', -1, 'C'], [-1, 'A', -1, 'B', 'C'], [-1, 'A', 'B', -1, 'C']]])\n"
     ]
    }
   ],
   "source": [
    "# xor logic -> one of the group, but not two or all\n",
    "i1 = '(^(A or B or C))'\n",
    "o1 = parseInput(i1)\n",
    "print(o1)\n",
    "\n",
    "# xor logic with and, or, and not operators #1\n",
    "i2 = '((A or B or C) and (!(A and B and C)))'\n",
    "o2 = parseInput(i2)\n",
    "print(o2)\n",
    "\n",
    "# xor logic with and, or, and not operators #2\n",
    "i2 = '((A or !B or !C) and (!A or !B or C) and (!A or B or !C))'\n",
    "o2 = parseInput(i2)\n",
    "print(o2)"
   ]
  },
  {
   "cell_type": "markdown",
   "metadata": {},
   "source": [
    "Apparently using XOR can save a lot of space!\n",
    "\n",
    "Exclusive and (XAND) works exacly same way, except that the group after can have one or more True values, but not all True. This differs from XOR that on the latter group can have only one True value. To detect any other number of True occurences you need to combine clause with any of the five given propositions."
   ]
  },
  {
   "cell_type": "code",
   "execution_count": 9,
   "metadata": {
    "collapsed": false
   },
   "outputs": [
    {
     "name": "stdout",
     "output_type": "stream",
     "text": [
      "(True, [[-3, ['A', 'B', 'C']]])\n"
     ]
    }
   ],
   "source": [
    "# xor logic -> one of the group, but not two or all\n",
    "i1 = '(+(A or B or C))'\n",
    "o1 = parseInput(i1)\n",
    "print(o1)"
   ]
  },
  {
   "cell_type": "markdown",
   "metadata": {},
   "source": [
    "### Validate\n",
    "\n",
    "ValidateInput method is used to validate given clause in string format. It can be used to roughly check that parentheses and literals are correctly formed. Then it is safer to use parseInput and evaluateInput functions."
   ]
  },
  {
   "cell_type": "code",
   "execution_count": 10,
   "metadata": {
    "collapsed": false
   },
   "outputs": [
    {
     "name": "stdout",
     "output_type": "stream",
     "text": [
      "False True\n"
     ]
    }
   ],
   "source": [
    "from pyPLCParser import validateInput\n",
    "\n",
    "print (validateInput('(A B))'), validateInput('(A B)'))"
   ]
  },
  {
   "cell_type": "markdown",
   "metadata": {},
   "source": [
    "### Deformat\n",
    "\n",
    "Of cource it is good to have a method to deformat native list structure back to the string clause representation.\n",
    "\n",
    "With an optional argument, one can user special character abbreviations for logic operators. By default formal keywords are used on output. Lastly one can decide to use only the first level keyword if output should be as concise as possible."
   ]
  },
  {
   "cell_type": "code",
   "execution_count": 11,
   "metadata": {
    "collapsed": false
   },
   "outputs": [
    {
     "data": {
      "text/plain": [
       "\"( ( 'A' and 'B' ) )\""
      ]
     },
     "execution_count": 11,
     "metadata": {},
     "output_type": "execute_result"
    }
   ],
   "source": [
    "from pyPLCParser import PLCParser\n",
    "c = PLCParser()\n",
    "i = [True, [['A', 'B']]]\n",
    "c.deformat(i, short=False, first=False, latex=False)"
   ]
  },
  {
   "cell_type": "markdown",
   "metadata": {},
   "source": [
    "### Evaluate\n",
    "\n",
    "EvaluateInput function takes propositional logic clause in string or array format and evaluates it. Usually, if everything is correct on input, output is either true or false."
   ]
  },
  {
   "cell_type": "code",
   "execution_count": 12,
   "metadata": {
    "collapsed": false
   },
   "outputs": [
    {
     "name": "stdout",
     "output_type": "stream",
     "text": [
      "(1 or 0) => True\n",
      "(1 and 0) => False\n",
      "(true and false) => False\n",
      "(A and B) => False\n"
     ]
    }
   ],
   "source": [
    "from pyPLCParser import evaluateInput\n",
    "\n",
    "i = \"(1 or 0)\"\n",
    "o = evaluateInput(i)\n",
    "print(\"%s => %s\" % (i, o))\n",
    "\n",
    "i = \"(1 and 0)\"\n",
    "o = evaluateInput(i)\n",
    "print(\"%s => %s\" % (i, o))\n",
    "\n",
    "i = \"(true and false)\"\n",
    "o = evaluateInput(i)\n",
    "print(\"%s => %s\" % (i, o))\n",
    "\n",
    "i = \"(A and B)\"\n",
    "o = evaluateInput(i, {'A': True, 'B': False})\n",
    "print(\"%s => %s\" % (i, o))"
   ]
  },
  {
   "cell_type": "markdown",
   "metadata": {},
   "source": [
    "## PHP version\n",
    "\n",
    "PHP version of the PLCParser class is practically same as Python having same API methods and functionality. For example parseInput is called something like this:"
   ]
  },
  {
   "cell_type": "code",
   "execution_count": 13,
   "metadata": {
    "collapsed": false
   },
   "outputs": [
    {
     "data": {
      "text/html": [
       "\n",
       "require_once('./src/elonmedia/plcparser/php/PLCParser.php')\n",
       "print_r(PLCParser::parseInput(\"('A' or 'B')\"));"
      ],
      "text/plain": [
       "<IPython.core.display.HTML object>"
      ]
     },
     "metadata": {},
     "output_type": "display_data"
    }
   ],
   "source": [
    "%%html\n",
    "\n",
    "require_once('./src/elonmedia/plcparser/php/PLCParser.php')\n",
    "print_r(PLCParser::parseInput(\"('A' or 'B')\"));"
   ]
  },
  {
   "cell_type": "code",
   "execution_count": 14,
   "metadata": {
    "collapsed": false
   },
   "outputs": [
    {
     "data": {
      "text/html": [
       "Array\n",
       "(\n",
       "    [0] => \n",
       "    [1] => Array\n",
       "        (\n",
       "            [0] => Array\n",
       "                (\n",
       "                    [0] => Array\n",
       "                        (\n",
       "                            [0] => A\n",
       "                            [2] => B\n",
       "                        )\n",
       "\n",
       "                )\n",
       "\n",
       "        )\n",
       "\n",
       ")"
      ],
      "text/plain": [
       "<IPython.core.display.HTML object>"
      ]
     },
     "metadata": {},
     "output_type": "display_data"
    }
   ],
   "source": [
    "%%html\n",
    "Array\n",
    "(\n",
    "    [0] => \n",
    "    [1] => Array\n",
    "        (\n",
    "            [0] => Array\n",
    "                (\n",
    "                    [0] => Array\n",
    "                        (\n",
    "                            [0] => A\n",
    "                            [2] => B\n",
    "                        )\n",
    "\n",
    "                )\n",
    "\n",
    "        )\n",
    "\n",
    ")"
   ]
  },
  {
   "cell_type": "markdown",
   "metadata": {},
   "source": [
    "## Javascript version\n",
    "\n",
    "Same applies to Javascript library. You need to include library first and then you can use same API methods (validateInput, parseInput, EvaluateInput, deformatInput) or build object fromthe  PLCParser \"class\" for more specific usage:"
   ]
  },
  {
   "cell_type": "code",
   "execution_count": 15,
   "metadata": {
    "collapsed": false
   },
   "outputs": [
    {
     "data": {
      "text/html": [
       "\n",
       "<script src=\"./dist/PLCParser.min.js\"></script>\n",
       "\n",
       "<script>\n",
       "\n",
       "var v = PLCParser.validateInput(\"(A and B (C | D) !F)\")\n",
       "\n",
       "console.log(v)\n",
       "\n",
       "var p = PLCParser.parseInput(\"(A and B (C | D) !F)\")\n",
       "\n",
       "console.log(p)\n",
       "\n",
       "var e = PLCParser.evaluateInput(\"(true or false)\")\n",
       "\n",
       "console.log(e)\n",
       "\n",
       "var d = PLCParser.deformatInput([true, [-1, ['A', 'B']]])\n",
       "\n",
       "console.log(d)\n",
       "\n",
       "</script>"
      ],
      "text/plain": [
       "<IPython.core.display.HTML object>"
      ]
     },
     "metadata": {},
     "output_type": "display_data"
    }
   ],
   "source": [
    "%%html\n",
    "\n",
    "<script src=\"./dist/PLCParser.min.js\"></script>\n",
    "\n",
    "<script>\n",
    "\n",
    "var v = PLCParser.validateInput(\"(A and B (C | D) !F)\")\n",
    "\n",
    "console.log(v)\n",
    "\n",
    "var p = PLCParser.parseInput(\"(A and B (C | D) !F)\")\n",
    "\n",
    "console.log(p)\n",
    "\n",
    "var e = PLCParser.evaluateInput(\"(true or false)\")\n",
    "\n",
    "console.log(e)\n",
    "\n",
    "var d = PLCParser.deformatInput([true, [-1, ['A', 'B']]])\n",
    "\n",
    "console.log(d)\n",
    "\n",
    "</script>"
   ]
  },
  {
   "cell_type": "markdown",
   "metadata": {},
   "source": [
    "For both PHP and Javascript version, see [PLCParser demo application](https://plcparser.herokuapp.com/) deployed in Heroku for live testing."
   ]
  },
  {
   "cell_type": "markdown",
   "metadata": {},
   "source": [
    "## The [MIT](https://choosealicense.com/licenses/mit/) License\n",
    "Copyright &copy; 2017 Marko Manninen"
   ]
  }
 ],
 "metadata": {
  "anaconda-cloud": {},
  "kernelspec": {
   "display_name": "Python [conda root]",
   "language": "python",
   "name": "conda-root-py"
  },
  "language_info": {
   "codemirror_mode": {
    "name": "ipython",
    "version": 3
   },
   "file_extension": ".py",
   "mimetype": "text/x-python",
   "name": "python",
   "nbconvert_exporter": "python",
   "pygments_lexer": "ipython3",
   "version": "3.5.2"
  }
 },
 "nbformat": 4,
 "nbformat_minor": 1
}
