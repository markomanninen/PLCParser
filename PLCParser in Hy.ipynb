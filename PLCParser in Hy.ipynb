{
 "cells": [
  {
   "cell_type": "markdown",
   "metadata": {},
   "source": [
    "<img src=\"plcparser_icon.png\" />\n",
    "\n",
    "<center>$A \\land B \\land C$</center>\n",
    "\n",
    "# PLCParser implemented in [Hy](https://github.com/hylang/hy) ~language\n",
    "\n",
    "- [Propositional Logic Clause Parser main project hub](https://github.com/markomanninen/PLCParser) including parser libraries for Python, Javascript and PHP\n",
    "- [Jupyter notebook with Python kernel](http://nbviewer.jupyter.org/github/markomanninen/PLCParser/blob/master/Hy%20-level%20PLCParser.ipynb) using cell and line magics with Hy to evaluate propositional logic clauses.\n",
    "\n",
    "\n",
    "## Import library"
   ]
  },
  {
   "cell_type": "code",
   "execution_count": 1,
   "metadata": {
    "collapsed": false
   },
   "outputs": [],
   "source": [
    "(require [hyPLCParser.plcparser [*]])\n",
    "(import (hyPLCParser.plcparser (*)))"
   ]
  },
  {
   "cell_type": "markdown",
   "metadata": {},
   "source": [
    "Show available operators"
   ]
  },
  {
   "cell_type": "code",
   "execution_count": 2,
   "metadata": {
    "collapsed": false
   },
   "outputs": [
    {
     "name": "stdout",
     "output_type": "stream",
     "text": [
      "['is_nope', '¬', 'is_and', '∧', 'is_nand', '↑', 'is_or', '∨', 'is_nor', '↓', 'is_xor', '⊕', 'is_xnor', '↔']\n"
     ]
    }
   ],
   "source": [
    "(print operators)"
   ]
  },
  {
   "cell_type": "markdown",
   "metadata": {},
   "source": [
    "Evaluate clause. Both prefix and infix notation can be used on the clause:"
   ]
  },
  {
   "cell_type": "code",
   "execution_count": 3,
   "metadata": {
    "collapsed": false
   },
   "outputs": [
    {
     "data": {
      "text/plain": [
       "True"
      ]
     },
     "execution_count": 3,
     "metadata": {},
     "output_type": "execute_result"
    }
   ],
   "source": [
    "#$(1 and? (or? 0 1) and? 1)"
   ]
  },
  {
   "cell_type": "markdown",
   "metadata": {},
   "source": [
    "Default boolean true values are: <code>(1 True ⊤)</code> but of course you can define any truth symbol appropriate for your usage:"
   ]
  },
  {
   "cell_type": "code",
   "execution_count": 9,
   "metadata": {
    "collapsed": false
   },
   "outputs": [
    {
     "data": {
      "text/plain": [
       "True"
      ]
     },
     "execution_count": 9,
     "metadata": {},
     "output_type": "execute_result"
    }
   ],
   "source": [
    "(setv TrueTrueTrue True)\n",
    "#$(and? 1 True ⊤ TrueTrueTrue)"
   ]
  },
  {
   "cell_type": "markdown",
   "metadata": {},
   "source": [
    "In addition to logical operators, you can add for example math operators and get a mixed prefix and infix notation support for them. Note that here we are using macro functions (defoperators, defmixfix, defmixfix-n) instead of reader macros (#>, #$):"
   ]
  },
  {
   "cell_type": "code",
   "execution_count": 10,
   "metadata": {
    "collapsed": false
   },
   "outputs": [
    {
     "name": "stdout",
     "output_type": "stream",
     "text": [
      "1 [0, 1, 1, 2, 3, 5, 8]\n"
     ]
    }
   ],
   "source": [
    "(defoperators + -) ; is same as calling #>[+ -]\n",
    "(print\n",
    "  ; is same as calling reader macro: #$(1 + 1 - 1) -> 1\n",
    "  (defmixfix 1 + 1 - 1) \n",
    "  ; is same as calling reader macro: [#$0 #$1 #$(0 + 1) #$(1 + 1) #$(1 + 2) #$(2 + 3) #$(3 + 5)] -> \n",
    "  ; [0, 1, 1, 2, 3, 5, 8]\n",
    "  (defmixfix-n 0 1 (0 + 1) (1 + 1) (1 + 2) (2 + 3) (3 + 5))\n",
    ")"
   ]
  },
  {
   "cell_type": "markdown",
   "metadata": {},
   "source": [
    "With multiple operators and operands it easily becomes apparent the case when you need to define the order of precedence which simply means the order that each operation should be evaluated. Default order is from left to right. But with an optional defprecedence macro you can order evaluation as you wish:"
   ]
  },
  {
   "cell_type": "code",
   "execution_count": 6,
   "metadata": {
    "collapsed": false
   },
   "outputs": [
    {
     "name": "stdout",
     "output_type": "stream",
     "text": [
      "1 + 2 * 3 -> ((1 + 2) * 3) -> (* (+ 1 2) 3) =  9\n",
      "1 + 2 * 3 -> (1 + (2 * 3)) -> (+ 1 (* 2 3)) =  7\n"
     ]
    }
   ],
   "source": [
    "; add support for operators by registering some \n",
    "(defoperators + *)\n",
    "; reset to default that is empty list which causes evaluation from left to right\n",
    "(defprecedence)\n",
    "(print\n",
    " \"1 + 2 * 3 -> ((1 + 2) * 3) -> (* (+ 1 2) 3) = \"\n",
    " (defmixfix 1 + 2 * 3))\n",
    "\n",
    "; change the precedence list to first evaluate multiplication and then addition\n",
    "(defprecedence * +)\n",
    "(print\n",
    " \"1 + 2 * 3 -> (1 + (2 * 3)) -> (+ 1 (* 2 3)) = \"\n",
    " (defmixfix 1 + 2 * 3))"
   ]
  },
  {
   "cell_type": "markdown",
   "metadata": {},
   "source": [
    "## Tests\n",
    "\n",
    "Adding some test cases here for basic library module testing:"
   ]
  },
  {
   "cell_type": "code",
   "execution_count": 7,
   "metadata": {
    "collapsed": false
   },
   "outputs": [
    {
     "name": "stdout",
     "output_type": "stream",
     "text": [
      "Expression error!\n"
     ]
    }
   ],
   "source": [
    "(assert (= #$(or? 0) False))\n",
    "(assert (= #$(and? 0) False))\n",
    "(assert (= #$(xor? 0) False))\n",
    "(assert (= #$(nope? 1) False))\n",
    "(assert (= #$(nand? 1) False))\n",
    "(assert (= #$(nor? 1) False))\n",
    "(assert (= #$(xnor? 1) False))\n",
    "(assert (= #$(1) True))\n",
    "(assert (= #$(0) False))\n",
    "(assert (= #$(True) True))\n",
    "(assert (= #$(False) False))\n",
    "(assert (= #$1 True))\n",
    "(assert (= #$0 False))\n",
    "(assert (= #$True True))\n",
    "(assert (= #$False False))\n",
    "(assert (= #$() False))\n",
    "(assert (= #$(\"\") \"\"))\n",
    "(assert (= #$(None) None))\n",
    "(assert (= #$(¬ 0 False ⊥) True))\n",
    "\n",
    "(assert (= #$(1 and? 1) True))\n",
    "(assert (= #$(1 or? 0) True))\n",
    "(assert (= #$(1 xor? 0) True))\n",
    "(assert (= #$(1 nand? 1) False))\n",
    "(assert (= #$(1 nor? 0) False))\n",
    "(assert (= #$(1 xnor? 0) False))\n",
    "(assert (= #$(¬ ⊤) False))\n",
    "(assert (= #$( ⊥ ∨ ⊤ ) True))\n",
    "(assert (= #$(1 xnor? 0) False))\n",
    "(assert (= #$(⊕ 1 0) True))\n",
    "(assert (= #$( (1 and? 0) and? (1 and? 1) ) False))\n",
    "(assert (= #$(and? 1 1 (1 and? (and? 1 (1 nand? 1 nand? 1)))) True))\n",
    "\n",
    "(try\n",
    "  (assert (= #$(and?) None)) ; Raises exception with Expression error! message\n",
    "  (except [e Exception] (print e)))\n",
    "\n",
    "; empty the precedence list -> starting nesting from left side\n",
    "(defprecedence)\n",
    ";(assert (= operators-precedence []))\n",
    "(assert (= #$(1 or? 1 xor? 1) False)) ; (xor? 1 (or? 1 1))\n",
    "\n",
    "; set up precedence list -> nest xor first, then or\n",
    "(defprecedence nope? nand? xnor? nor? and? xor? or?)\n",
    ";(assert (= operators-precedence '[nope? nand? xnor? nor? and? xor? or?]))\n",
    "(assert (= #$(1 or? 1 xor? 1) True)) ; (or? 1 (xor? 1 1))\n",
    "\n",
    "; set up precedence list -> nest or first, then xor\n",
    "; use math symbols instead of word symbols. \n",
    "; this should work because internally functions are compared\n",
    "(defprecedence ¬ ↑ ↔ ↓ ∧ ∨ ⊕)\n",
    ";(assert (= operators-precedence '[¬ ↑ ↔ ↓ ∧ ∨ ⊕]))\n",
    "(assert (= #$(1 or? 1 xor? 1) False)) ; (xor? 1 (or? 1 1))\n",
    "\n",
    "(defoperators + *)\n",
    "; use defmixfix macro to evaluate simple math clause\n",
    "(assert (= (defmixfix (1 + 1) 2)))\n",
    "; mix infix and prefix notation\n",
    "(assert (= (defmixfix (1 + (* 1 2)) 3)))"
   ]
  },
  {
   "cell_type": "markdown",
   "metadata": {
    "collapsed": false
   },
   "source": [
    "## Code\n",
    "\n",
    "All the code needed for module in one cell. In practice these are separated to two files (operators.hy and plcparser.hy) on the module, but they work fine on cell too:"
   ]
  },
  {
   "cell_type": "code",
   "execution_count": 8,
   "metadata": {
    "collapsed": false
   },
   "outputs": [],
   "source": [
    "; these two method behave a little bit different when using import / require\n",
    "; actually eval-when-compile loses operators variable\n",
    ";(eval-when-compile (setv operators []))\n",
    "(eval-and-compile \n",
    "  (setv operators []\n",
    "        operators-precedence []))\n",
    "\n",
    "; add operators to global variable so that on a parser loop\n",
    "; we can use it on if clauses\n",
    "; for singular usage: #>operator\n",
    "; for multiple: #>[operator1 operator 2 ...]\n",
    "(defreader > [items] \n",
    "  (do\n",
    "    ; transforming singular value to a list for the next for loop\n",
    "    (if (not (coll? items)) (setv items [items]))\n",
    "    (for [item items]\n",
    "      ; discard duplicates\n",
    "      (if-not (in item operators)\n",
    "        (.append operators item)))))\n",
    "\n",
    "; set the order of precedence for oprators\n",
    "; for singular usage: #<operator\n",
    "; for multiple: #<[operator1 operator 2 ...]\n",
    "; note that calling this macro will empty the previous list of precedence!\n",
    "(defreader < [items]\n",
    "  (do\n",
    "    ; (setv operators-precedence []) is not working here\n",
    "    ; for some macro evaluation - complilation order reason\n",
    "    ; so emptying the current operators-precedence list more verbose way\n",
    "    (if (pos? (len operators-precedence))\n",
    "      (while (pos? (len operators-precedence))\n",
    "        (.pop operators-precedence)))\n",
    "    ; transforming singular value to a list for the next for loop\n",
    "    (if (not (coll? items)) (setv items [items]))\n",
    "    (for [item items]\n",
    "      ; discard duplicates\n",
    "      (if-not (in item operators-precedence)\n",
    "        (.append operators-precedence item)))))\n",
    "\n",
    "; define math boolean operands\n",
    "(setv ⊤ 1)\n",
    "(setv ⊥ 0)\n",
    "\n",
    "; define operator function and math alias (op-symbol)\n",
    "; plus set them to operators global list\n",
    "(defmacro defoperator [op-name op-symbol params &rest body]\n",
    "  `(do \n",
    "    (defn ~op-name ~params ~@body)\n",
    "    #>~op-name\n",
    "    (setv ~op-symbol ~op-name)\n",
    "    #>~op-symbol))\n",
    "\n",
    "; add custom or native operators to the list\n",
    "; somebody might like this syntax more than using\n",
    "; reader macro directly. so calling (defoperators + - * /)\n",
    "; is same as calling #>[+ - * /]\n",
    "(defmacro defoperators [&rest args] `#>~args)\n",
    "\n",
    "; define true comparison function\n",
    "(defn true? [value] \n",
    "  (or (= value 1) (= value True)))\n",
    "\n",
    "; same as nor at the moment... not? is a reserved word\n",
    "(defoperator nope? ¬ [&rest truth-list] \n",
    "  (not (any truth-list)))\n",
    "\n",
    "; and operation : zero or more arguments, zero will return false, \n",
    "; otherwise all items needs to be true\n",
    "(defoperator and? ∧ [&rest truth-list]\n",
    "  (all (map true? truth-list)))\n",
    "\n",
    "; negation of and\n",
    "(defoperator nand? ↑ [&rest truth-list]\n",
    "  (not (apply and? truth-list)))\n",
    "\n",
    "; or operation : zero or more arguments, zero will return false, \n",
    "; otherwise at least one of the values needs to be true\n",
    "(defoperator or? ∨ [&rest truth-list]\n",
    "  (any (map true? truth-list)))\n",
    "\n",
    "; negation of or\n",
    "(defoperator nor? ↓ [&rest truth-list]\n",
    "  (not (apply or? truth-list)))\n",
    "\n",
    "; xor operation (parity check) : zero or more arguments, zero will return false, \n",
    "; otherwise odd number of true's is true\n",
    "(defoperator xor? ⊕ [&rest truth-list]\n",
    "    (setv boolean False)\n",
    "    (for [truth-value truth-list]\n",
    "        (if (true? truth-value)\n",
    "            (setv boolean (not boolean))))\n",
    "    boolean)\n",
    "\n",
    "; negation of xor\n",
    "(defoperator xnor? ↔ [&rest truth-list]\n",
    "  (not (apply xor? truth-list)))\n",
    "\n",
    "; helper functions for defmixfix ($) macros.\n",
    "(eval-and-compile\n",
    "  ; this takes a list of items at least 3\n",
    "  ; index must be bigger than 1 and smaller than the length of the list\n",
    "  ; left and right side of the index will be picked to a new list where\n",
    "  ; centermost item is moved to left and left to center\n",
    "  ; [1 a 2 b 3 c 4] idx=3 -> [1 a [b 2 3] c 4]\n",
    "  (defn list-nest [lst idx]\n",
    "    (setv tmp\n",
    "      (doto \n",
    "        (list (take 1 (drop idx lst))) \n",
    "        (.append (get lst (dec idx))) \n",
    "        (.append (get lst (inc idx)))))\n",
    "    (doto \n",
    "      (list (take (dec idx) lst))\n",
    "      (.append tmp)\n",
    "      (.extend (list (drop (+ 2 idx) lst)))))\n",
    "  \n",
    "  (defn one-not-operator? [code]\n",
    "    (and (= (len code) 1) (not (in (first code) operators))))\n",
    "\n",
    "  (defn second-operator? [code]\n",
    "    (and (pos? (len code)) (in (second code) operators)))\n",
    "  \n",
    "  (defn first-operator? [code]\n",
    "    (and (> (len code) 1) (in (first code) operators)))\n",
    "  \n",
    "  (defn third [lst] \n",
    "    (get lst 2)))\n",
    "\n",
    "; macro to change precedence order of the operations.\n",
    "; argument list will be passed to the #< readermacro which \n",
    "; will reset arguments as an operators-precedence list\n",
    "; example: (defprecedence and? xor? or?)\n",
    "; or straight to reader macro way: #<[and? xor? or?]\n",
    "; call (defprecedence) to empty the list to default state\n",
    "; in that case left-wise order of precedence is used when evaluating\n",
    "; the list of propositional logic or other symbols\n",
    "(defmacro defprecedence [&rest args] `#<~args)\n",
    "\n",
    "; macro that takes mixed prefix and infix notation clauses\n",
    "; for evaluating their value. this is same as calling\n",
    "; $ reader macro directly but might be more convenient way\n",
    "; inside lips code to use than reader macro syntax\n",
    "; there is no need to use parentheses with this macro\n",
    "(defmacro defmixfix [&rest items] `#$~items)\n",
    "\n",
    "; pass multiple (n) evaluation clauses. each of the must be\n",
    "; wrapped by () parentheses\n",
    "(defmacro defmixfix-n [&rest items]\n",
    "  (list-comp `#$~item [item items]))\n",
    "\n",
    "; main parser loop for propositional logic clauses\n",
    "(defreader $ [code]\n",
    "  (if\n",
    "    ; scalar value\n",
    "    (not (coll? code)) code\n",
    "    ; empty list\n",
    "    (zero? (len code)) False\n",
    "    ; list with lenght of 1 and the single item not being the operator\n",
    "    (one-not-operator? code) `#$~@code\n",
    "    ; list with three or more items, second is the operator\n",
    "    (second-operator? code)\n",
    "      (do \n",
    "        ; the second operator on the list is the default index\n",
    "        (setv idx 1)\n",
    "        ; loop over all operators\n",
    "        (for [op operators-precedence]\n",
    "          ; set new index if operator is found from the code and break in that case\n",
    "          (if (in op code) (do (setv idx (.index code op)) (break))))\n",
    "        ; make list nested based on the found index and evaluate again\n",
    "        `#$~(list-nest code idx))\n",
    "    ; list with more than 1 items and the first item is the operator\n",
    "    (first-operator? code)\n",
    "      ; take the first item i.e. operator and use\n",
    "      ; rest of the items as arguments once evaluated by #$\n",
    "      `(~(first code) ~@(list-comp `#$~part [part (drop 1 code)]))\n",
    "    ; possibly syntax error on clause\n",
    "    ; might be caused by arbitrary usage of operators and operands\n",
    "    ; something like: (1 1 and? 0 and?)\n",
    "    `(raise (Exception \"Expression error!\"))))"
   ]
  },
  {
   "cell_type": "markdown",
   "metadata": {
    "collapsed": false
   },
   "source": [
    "## The [MIT](https://choosealicense.com/licenses/mit/) License\n",
    "\n",
    "Copyright © 2017 Marko Manninen"
   ]
  }
 ],
 "metadata": {
  "anaconda-cloud": {},
  "kernelspec": {
   "display_name": "Calysto Hy",
   "language": "hy",
   "name": "calysto_hy"
  },
  "language_info": {
   "codemirror_mode": {
    "name": "scheme"
   },
   "mimetype": "text/x-hylang",
   "name": "hy",
   "pygments_lexer": "lisp"
  }
 },
 "nbformat": 4,
 "nbformat_minor": 1
}
