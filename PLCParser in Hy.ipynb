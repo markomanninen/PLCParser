{
 "cells": [
  {
   "cell_type": "markdown",
   "metadata": {},
   "source": [
    "<img src=\"plcparser_icon.png\" />\n",
    "\n",
    "<center>$A \\land B \\land C$</center>\n",
    "\n",
    "# PLCParser implemented in [Hy](https://github.com/hylang/hy) ~language\n",
    "\n",
    "See also:\n",
    "\n",
    "- Propositional Logic Clause Parser [main project hub](https://github.com/markomanninen/PLCParser)\n",
    "- Jupyter notebook with Python [kernel](http://nbviewer.jupyter.org/github/markomanninen/PLCParser/blob/master/Hy%20-level%20PLCParser.ipynb)\n",
    "\n",
    "\n",
    "## Import library"
   ]
  },
  {
   "cell_type": "code",
   "execution_count": 1,
   "metadata": {
    "collapsed": false
   },
   "outputs": [],
   "source": [
    "(require [hyPLCParser.plcparser [*]])\n",
    "(import (hyPLCParser.plcparser (*)))"
   ]
  },
  {
   "cell_type": "markdown",
   "metadata": {},
   "source": [
    "Show available operators"
   ]
  },
  {
   "cell_type": "code",
   "execution_count": 2,
   "metadata": {
    "collapsed": false
   },
   "outputs": [
    {
     "name": "stdout",
     "output_type": "stream",
     "text": [
      "['is_nope', '¬', 'is_and', '∧', 'is_nand', '↑', 'is_or', '∨', 'is_nor', '↓', 'is_xor', '⊕', 'is_xnor', '↔']\n"
     ]
    }
   ],
   "source": [
    "(print operators)"
   ]
  },
  {
   "cell_type": "markdown",
   "metadata": {},
   "source": [
    "Evaluate clause"
   ]
  },
  {
   "cell_type": "code",
   "execution_count": 3,
   "metadata": {
    "collapsed": false
   },
   "outputs": [
    {
     "data": {
      "text/plain": [
       "True"
      ]
     },
     "execution_count": 3,
     "metadata": {},
     "output_type": "execute_result"
    }
   ],
   "source": [
    "#$(1 and? (and? 1))"
   ]
  },
  {
   "cell_type": "code",
   "execution_count": 4,
   "metadata": {
    "collapsed": false
   },
   "outputs": [
    {
     "data": {
      "text/plain": [
       "True"
      ]
     },
     "execution_count": 4,
     "metadata": {},
     "output_type": "execute_result"
    }
   ],
   "source": [
    "#$(and? 1 \"⊤\" True)"
   ]
  },
  {
   "cell_type": "markdown",
   "metadata": {},
   "source": [
    "## Tests"
   ]
  },
  {
   "cell_type": "code",
   "execution_count": 5,
   "metadata": {
    "collapsed": false
   },
   "outputs": [
    {
     "name": "stdout",
     "output_type": "stream",
     "text": [
      "Expression error!\n"
     ]
    }
   ],
   "source": [
    "(assert (= #$(or? 0) False))\n",
    "(assert (= #$(and? 0) False))\n",
    "(assert (= #$(xor? 0) False))\n",
    "(assert (= #$(nope? 1) False))\n",
    "(assert (= #$(nand? 1) False))\n",
    "(assert (= #$(nor? 1) False))\n",
    "(assert (= #$(xnor? 1) False))\n",
    "(assert (= #$(1) True))\n",
    "(assert (= #$(0) False))\n",
    "(assert (= #$(True) True))\n",
    "(assert (= #$(False) False))\n",
    "(assert (= #$1 True))\n",
    "(assert (= #$0 False))\n",
    "(assert (= #$True True))\n",
    "(assert (= #$False False))\n",
    "(assert (= #$() False))\n",
    "(assert (= #$(\"\") \"\"))\n",
    "(assert (= #$(None) None))\n",
    "(assert (= #$(¬ 0 False ⊥) True))\n",
    "\n",
    "(assert (= #$(1 and? 1) True))\n",
    "(assert (= #$(1 or? 0) True))\n",
    "(assert (= #$(1 xor? 0) True))\n",
    "(assert (= #$(1 nand? 1) False))\n",
    "(assert (= #$(1 nor? 0) False))\n",
    "(assert (= #$(1 xnor? 0) False))\n",
    "(assert (= #$(¬ ⊤) False))\n",
    "(assert (= #$( ⊥ ∨ ⊤ ) True))\n",
    "(assert (= #$(1 xnor? 0) False))\n",
    "(assert (= #$(⊕ 1 0) True))\n",
    "(assert (= #$( (1 and? 0) and? (1 and? 1) ) False))\n",
    "(assert (= #$(and? 1 1 (1 and? (and? 1 (1 nand? 1 nand? 1)))) True))\n",
    "\n",
    "(assert (= #$(and?) None)) ; expression error"
   ]
  },
  {
   "cell_type": "markdown",
   "metadata": {
    "collapsed": false
   },
   "source": [
    "## Code"
   ]
  },
  {
   "cell_type": "code",
   "execution_count": 6,
   "metadata": {
    "collapsed": false
   },
   "outputs": [],
   "source": [
    ";(eval-when-compile (setv operators []))\n",
    "(eval-and-compile (setv operators []))\n",
    "\n",
    "(defreader > [item]\n",
    "  (if-not (in item operators)\n",
    "    (.append operators item)))\n",
    "\n",
    "(defmacro defoperator [op-name op-symbol params &rest body]\n",
    "  `(do \n",
    "    (defn ~op-name ~params ~@body)\n",
    "    (setv ~op-symbol ~op-name)\n",
    "    #>~op-name\n",
    "    #>~op-symbol))\n",
    "\n",
    "; define true comparison function\n",
    "(defn true? [value] \n",
    "  (or (= value 1) (= value True) (= value \"True\")  (= value \"⊤\")))\n",
    "\n",
    "; same as nor at the moment...\n",
    "(defoperator nope? ¬ [&rest truth-list] \n",
    "  (not (any truth-list)))\n",
    "  ;(not (any (map true? truth-list))))\n",
    "\n",
    "; and operation : zero or more arguments, zero will return false, \n",
    "; otherwise all items needs to be true\n",
    "(defoperator and? ∧ [&rest truth-list]\n",
    "  (all (map true? truth-list)))\n",
    "\n",
    "; negation of and\n",
    "(defoperator nand? ↑ [&rest truth-list]\n",
    "  (not (apply and? truth-list)))\n",
    "\n",
    "; or operation : zero or more arguments, zero will return false, \n",
    "; otherwise at least one of the values needs to be true\n",
    "(defoperator or? ∨ [&rest truth-list]\n",
    "  (any (map true? truth-list)))\n",
    "\n",
    "; negation of or\n",
    "(defoperator nor? ↓ [&rest truth-list]\n",
    "  (not (apply or? truth-list)))\n",
    "\n",
    "; xor operation (parity check) : zero or more arguments, zero will return false, \n",
    "; otherwise odd number of true's is true\n",
    "(defoperator xor? ⊕ [&rest truth-list]\n",
    "    (setv boolean False)\n",
    "    (for [truth-value truth-list]\n",
    "        (if (true? truth-value)\n",
    "            (setv boolean (not boolean))))\n",
    "    boolean)\n",
    "\n",
    "; negation of xor\n",
    "(defoperator xnor? ↔ [&rest truth-list]\n",
    "  (not (apply xor? truth-list)))\n",
    "\n",
    "; define math operands\n",
    "(setv ⊤ 1)\n",
    "(setv ⊥ 0)\n",
    "\n",
    "; main parser loop for propositional logic clauses\n",
    "; todo: operator precedence!\n",
    "(defreader $ [code]\n",
    "  (if\n",
    "    ; scalar value\n",
    "    (not (coll? code))\n",
    "      `(true? ~code)\n",
    "    ; empty list\n",
    "    (= (len code) 0)\n",
    "      False\n",
    "    ; list with lenght of 1 and the single item not being the operator\n",
    "    (and (= (len code) 1) (not (in (get code 0) operators)))\n",
    "      `#$~@code\n",
    "    ; list with three items, operator in the middle (infix)\n",
    "    (and (= (len code) 3) (in (get code 1) operators))\n",
    "      `(~(get code 1) #$~(get code 0) #$~(get code 2))\n",
    "    ; list with two or more items, second is the operator\n",
    "    (and (> (len code) 2) (in (get code 1) operators))\n",
    "      (do\n",
    "        ; take first two items and reverse\n",
    "        (setv a (doto (list (take 2 code)) (.reverse)))\n",
    "        ; take rest of the items after second item\n",
    "        (setv b (list (drop 2 code)))\n",
    "        ; b could be empty\n",
    "        (if (> (len b) 0)\n",
    "          `(~@a #$~b)\n",
    "          `(~@a)))\n",
    "    ; list with more items than 1 and operator is the first item\n",
    "    (and (> (len code) 1) (in (get code 0) operators))\n",
    "      (do\n",
    "        ; take the first item i.e. operator\n",
    "        (setv a (list (take 1 code)))\n",
    "        ; append all numeric items after operator to a and flatten list\n",
    "        (.append a (list (take-while \n",
    "          (fn [x] (or (= 1 x) (= 0 x) (= \"True\" x) (= \"⊤\" x) (= \"False\" x) (= \"⊥\" x))) (drop 1 code))))\n",
    "        (setv a (flatten a))\n",
    "        ; after the first items seek non numeric i.e. list\n",
    "        (setv b (list (drop-while \n",
    "          (fn [x] (or (= 1 x) (= 0 x) (= \"True\" x) (= \"⊤\" x) (= \"False\" x) (= \"⊥\" x))) (drop 1 code))))\n",
    "        ; b could be empty\n",
    "        (if (> (len b) 0)\n",
    "          `(~@a #$(~@b))\n",
    "          `(~@a)))\n",
    "    ; possibly syntax error on clause\n",
    "    `(print \"Expression error!\")))"
   ]
  },
  {
   "cell_type": "markdown",
   "metadata": {
    "collapsed": false
   },
   "source": [
    "## The [MIT](https://choosealicense.com/licenses/mit/) License\n",
    "\n",
    "Copyright © 2017 Marko Manninen"
   ]
  }
 ],
 "metadata": {
  "anaconda-cloud": {},
  "kernelspec": {
   "display_name": "Calysto Hy",
   "language": "hy",
   "name": "calysto_hy"
  },
  "language_info": {
   "codemirror_mode": {
    "name": "scheme"
   },
   "mimetype": "text/x-hylang",
   "name": "hy",
   "pygments_lexer": "lisp"
  }
 },
 "nbformat": 4,
 "nbformat_minor": 1
}
