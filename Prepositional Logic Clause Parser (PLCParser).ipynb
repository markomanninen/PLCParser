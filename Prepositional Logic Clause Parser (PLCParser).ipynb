{
 "cells": [
  {
   "cell_type": "markdown",
   "metadata": {},
   "source": [
    "# Prepositional Logic Clause Parser (PLCParser)\n",
    "\n",
    "This library is used to parse string input that contains four fundamental [prepositional logic](https://en.wikipedia.org/wiki/Logical_conjunction) symbols: \n",
    "\n",
    "1. $AND$ ($\\&$)\n",
    "2. $OR$ ($|$)\n",
    "3. $NOT$ ($\\\\!$)\n",
    "4. $XOR$ (^)\n",
    "\n",
    "Library takes an input and produces a multidimensional list of given literals. Structure of the nested output list is created to contain all information required to use it programmatically for boolean operations.\n",
    "\n",
    "Library is implemented in three languages: python, php and javascript.\n",
    "\n",
    "## Simple example (Python)"
   ]
  },
  {
   "cell_type": "code",
   "execution_count": 1,
   "metadata": {
    "collapsed": false
   },
   "outputs": [
    {
     "name": "stdout",
     "output_type": "stream",
     "text": [
      "(True, [['1', '2']])\n"
     ]
    }
   ],
   "source": [
    "# load library\n",
    "from pyPLCParser import parseInput\n",
    "# set input\n",
    "i = \"(1 AND 2)\"\n",
    "# parse input\n",
    "o = parseInput(i)\n",
    "# print output\n",
    "print(o)"
   ]
  },
  {
   "cell_type": "markdown",
   "metadata": {},
   "source": [
    "From the output <code>(True, [['1', '2']])</code> we can read that mutual boolean starting point for the interpretation of the input is *and* which is *True*. This is the default starting point. You could also just simply input: <code>(1 2)</code> to get the same result.\n",
    "\n",
    "To demonstrate opposite starting point, let us use | character for OR operator. You can use either $AND, OR, NOT, XOR$ keywords or single characters on the clause:  $\\&$, $|$, $\\\\!$ or ^ respectively."
   ]
  },
  {
   "cell_type": "code",
   "execution_count": 2,
   "metadata": {
    "collapsed": false
   },
   "outputs": [
    {
     "data": {
      "text/plain": [
       "(False, [['1', '2']])"
      ]
     },
     "execution_count": 2,
     "metadata": {},
     "output_type": "execute_result"
    }
   ],
   "source": [
    "i = \"(1 | 2)\"\n",
    "parseInput(i)"
   ]
  },
  {
   "cell_type": "markdown",
   "metadata": {},
   "source": [
    "But say, you have a more complex nested clause in your hands, what is the outcome?"
   ]
  },
  {
   "cell_type": "code",
   "execution_count": 3,
   "metadata": {
    "collapsed": false
   },
   "outputs": [
    {
     "data": {
      "text/plain": [
       "(False, [['A', ['B', 'C', ['D', 'E']]]])"
      ]
     },
     "execution_count": 3,
     "metadata": {},
     "output_type": "execute_result"
    }
   ],
   "source": [
    "i = \"(A or (B C (D E)))\"\n",
    "parseInput(i)"
   ]
  },
  {
   "cell_type": "markdown",
   "metadata": {},
   "source": [
    "From the output we can read that the first level must be interpreted as an OR clause. It is actually the only mandatory boolean keyword you need to use because the next level is automaticly regarded as an AND clause. Thus the deepest level (D E) is again an OR clause. \n",
    "\n",
    "This represents the important mutual boolean change of the interpretation of the nested levels. Most of the meaningful boolean clauses can be represented in this way."
   ]
  },
  {
   "cell_type": "markdown",
   "metadata": {},
   "source": [
    "## Literals\n",
    "\n",
    "In above examples only single word letters were used. That is ok as long as they are not reserved keywords or the chosen parenthesis and literal wrapper characters. To use sentences that contain spaces and special characters it is safer to make it this way:"
   ]
  },
  {
   "cell_type": "code",
   "execution_count": 4,
   "metadata": {
    "collapsed": false
   },
   "outputs": [
    {
     "data": {
      "text/plain": [
       "(True, [['Queen Elizabeth', 'Philip, Duke of Edinburgh']])"
      ]
     },
     "execution_count": 4,
     "metadata": {},
     "output_type": "execute_result"
    }
   ],
   "source": [
    "i = \"('Queen Elizabeth' & 'Philip, Duke of Edinburgh')\"\n",
    "parseInput(i)"
   ]
  },
  {
   "cell_type": "markdown",
   "metadata": {},
   "source": [
    "By default literals are expected to be wrapped with single ' or double \" quotes. Parentheses are assumed to be ().\n",
    "\n",
    "If default parentheses and literal wrappers are not suitable, you can change them and parse input accordingly:"
   ]
  },
  {
   "cell_type": "code",
   "execution_count": 5,
   "metadata": {
    "collapsed": false
   },
   "outputs": [
    {
     "data": {
      "text/plain": [
       "(True, [['Use', 'as you', 'wish']])"
      ]
     },
     "execution_count": 5,
     "metadata": {},
     "output_type": "execute_result"
    }
   ],
   "source": [
    "from pyPLCParser import PLCParser\n",
    "\n",
    "c = PLCParser(parentheses=['[', ']'], wrappers=['´'])\n",
    "\n",
    "i = \"[´Use´ ´as you´ wish]\"\n",
    "\n",
    "c.parse(i)"
   ]
  },
  {
   "cell_type": "markdown",
   "metadata": {},
   "source": [
    "## Negation and XOR\n",
    "\n",
    "Using negation (NOT/!) or XOR (^) keywords do shape the structure of the output. NOT will add -1 value to the result before the item or node. Similarly XOR will add 0 value to the list.\n",
    "\n",
    "Negation can be done for item or to the group of items:"
   ]
  },
  {
   "cell_type": "code",
   "execution_count": 6,
   "metadata": {
    "collapsed": false
   },
   "outputs": [
    {
     "data": {
      "text/plain": [
       "(True, [[-1, 'A', -1, ['B', 'C']]])"
      ]
     },
     "execution_count": 6,
     "metadata": {},
     "output_type": "execute_result"
    }
   ],
   "source": [
    "parseInput(\"\"\"\n",
    "\n",
    "(!A and !(B or C))\n",
    "\n",
    "\"\"\")"
   ]
  },
  {
   "cell_type": "markdown",
   "metadata": {},
   "source": [
    "Using XOR is experimental. Same behaviour could be achieved by OR and AND clause groups. Lets demonstrate it here:"
   ]
  },
  {
   "cell_type": "code",
   "execution_count": 7,
   "metadata": {
    "collapsed": false
   },
   "outputs": [
    {
     "name": "stdout",
     "output_type": "stream",
     "text": [
      "(True, [[0, ['A', 'B']]])\n",
      "(True, [[['A', 'B'], [-1, ['A', 'B']]]])\n"
     ]
    }
   ],
   "source": [
    "# xor logic\n",
    "i1 = '(^(A or B))'\n",
    "o1 = parseInput(i1)\n",
    "print(o1)\n",
    "# xor logic with and, or, and not operators\n",
    "i2 = '((A or B) and (!(A and B)))'\n",
    "o2 = parseInput(i2)\n",
    "print(o2)"
   ]
  },
  {
   "cell_type": "markdown",
   "metadata": {},
   "source": [
    "But apparently using XOR can save a lot of space!"
   ]
  },
  {
   "cell_type": "markdown",
   "metadata": {},
   "source": [
    "## Deformat\n",
    "\n",
    "Of cource it is good to have a method to deformat native list structure back to the string clause representation.\n",
    "\n",
    "With an optional argument, one can user special character abbreviations for logic operators. By default formal keywords are used on output. Lastly one can decide to use only the first level keyword if output should be as concise as possible."
   ]
  },
  {
   "cell_type": "code",
   "execution_count": 8,
   "metadata": {
    "collapsed": true
   },
   "outputs": [],
   "source": [
    "from pyPLCParser import PLCParser\n",
    "c = PLCParser()\n",
    "i = [True, [['A', 'B']]]\n",
    "c.deFormat(i, short=False, firstOnly=False)\n",
    "# -> ('A' and 'B')"
   ]
  },
  {
   "cell_type": "markdown",
   "metadata": {},
   "source": [
    "## PHP version"
   ]
  },
  {
   "cell_type": "markdown",
   "metadata": {},
   "source": [
    "coming soon..."
   ]
  },
  {
   "cell_type": "markdown",
   "metadata": {},
   "source": [
    "## Javascript version"
   ]
  },
  {
   "cell_type": "markdown",
   "metadata": {},
   "source": [
    "coming soon..."
   ]
  },
  {
   "cell_type": "markdown",
   "metadata": {},
   "source": [
    "## Tests\n",
    "\n",
    "Asserts beow should not raise any errors, so if tests are ok, then there should be no output."
   ]
  },
  {
   "cell_type": "code",
   "execution_count": 9,
   "metadata": {
    "collapsed": false
   },
   "outputs": [],
   "source": [
    "assert parseInput(\"\") == (True, [])\n",
    "assert parseInput(\"and or ! anything\") == (True, [])\n",
    "\n",
    "assert parseInput(\"()\") == (True, [[]])\n",
    "\n",
    "assert parseInput(\"( 'and' 'or' 'not' 'xor' '&' '|' '!' '^')\") == \\\n",
    "                  (True, [['and', 'or', 'not', 'xor', '&', '|', '!', '^']])\n",
    "assert parseInput('( \"and\" \"or\" \"not\" \"xor\" \"&\" \"|\" \"!\" \"^\")') == \\\n",
    "                  (True, [['and', 'or', 'not', 'xor', '&', '|', '!', '^']])\n",
    "\n",
    "assert parseInput(\"( A B )\") == (True, [['A', 'B']])\n",
    "assert parseInput(\"( 'A' 'B' )\") == (True, [['A', 'B']])\n",
    "assert parseInput(\"( 'A' and 'B' )\") == (True, [['A', 'B']])\n",
    "assert parseInput(\"( 'A' & 'B' )\") == (True, [['A', 'B']])\n",
    "\n",
    "assert parseInput(\"( A or B )\") == (False, [['A', 'B']])\n",
    "assert parseInput(\"( A | B )\") == (False, [['A', 'B']])\n",
    "\n",
    "assert parseInput(\"(( 'A' and 'B' ) OR (A B))\") == (False, [[['A', 'B'], ['A', 'B']]])\n",
    "\n",
    "assert parseInput(\"( 'A' 'B' ('A' 'C'))\") == (True, [['A', 'B', ['A', 'C']]])\n",
    "assert parseInput(\"( 'A' and 'B' and ('A' or 'C'))\") == (True, [['A', 'B', ['A', 'C']]])\n",
    "assert parseInput(\"( 'A' or 'B' or ('A' and 'C'))\") == (False, [['A', 'B', ['A', 'C']]])\n",
    "assert parseInput(\"( 'A' or 'B' or ('A' 'C'))\") == (False, [['A', 'B', ['A', 'C']]])\n",
    "assert parseInput(\"( 'A' or 'B' ('A' 'C'))\") == (False, [['A', 'B', ['A', 'C']]])\n",
    "assert parseInput(\"( 'A' 'B' or ('A' 'C'))\") == (False, [['A', 'B', ['A', 'C']]])\n",
    "\n",
    "assert parseInput(\"( 'A\\\\'')\") == (True, [[\"A'\"]])\n",
    "assert parseInput('( \"A\\\\\"\")') == (True, [['A\"']])\n",
    "assert parseInput(\"( 'A(B)')\") == (True, [['A(B)']])\n",
    "\n",
    "assert parseInput('( ( \"M\" AND ( \"(\" or \"AND\" ) ) OR \"T\" )') == \\\n",
    "                  (False, [[['M', ['(', 'AND']], 'T']])\n",
    "assert parseInput('( ( \"M\" AND ( \"(\" OR \"AND\" ) ) OR \\'T\\' )') == \\\n",
    "                  (False, [[['M', ['(', 'AND']], 'T']])\n",
    "\n",
    "assert parseInput('( 1 2 )') == (True, [['1', '2']])\n",
    "assert parseInput('( 1.0 2.0 )') == (True, [['1.0', '2.0']])\n",
    "assert parseInput('( 1,0 2,0 )') == (True, [['1,0', '2,0']])\n",
    "assert parseInput('( 12*12 2.0-1.0 )') == (True, [['12*12', '2.0-1.0']])\n",
    "\n",
    "assert parseInput(\"(!a b)\") == (True, [[-1, 'a', 'b']])\n",
    "assert parseInput(\"(!(a b))\") == (True, [[-1, ['a', 'b']]])\n",
    "assert parseInput(\"(!(a | b))\") == (True, [[-1, ['a', 'b']]])\n",
    "assert parseInput(\"((!(a b)))\") == (True, [[[-1, ['a', 'b']]]])\n",
    "assert parseInput(\"!(a | b)\") == (False, [-1, ['a', 'b']])\n",
    "assert parseInput(\"!!(a | b)\") == (False, [-1, -1, ['a', 'b']])\n",
    "\n",
    "assert parseInput(\"^(a b)\") == (True, [0, ['a', 'b']])\n",
    "assert parseInput(\"(^(a b))\") == (True, [[0, ['a', 'b']]])\n",
    "assert parseInput(\"((^(a b)))\") == (True, [[[0, ['a', 'b']]]])\n",
    "assert parseInput(\"((xor(a b)))\") == (True, [[[0, ['a', 'b']]]])\n",
    "\n",
    "assert parseInput(\"^!(a b)\") == (True, [0, -1, ['a', 'b']])\n",
    "assert parseInput('( ! ( ! a ! b ) )') == (True, [[-1, [-1, 'a', -1, 'b']]])\n",
    "assert parseInput('( not ( not a not b ) )') == (True, [[-1, [-1, 'a', -1, 'b']]])\n",
    "\n",
    "from pyPLCParser import PLCParser\n",
    "\n",
    "c = PLCParser(parentheses=['[', ']'], wrappers=['´'])\n",
    "\n",
    "assert c.parse(\"(´A´)\") == (True, [])\n",
    "assert c.parse(\"['A']\") == (True, [[\"'A'\"]])\n",
    "assert c.parse(\"[´A´]\") == (True, [['A']])"
   ]
  },
  {
   "cell_type": "markdown",
   "metadata": {},
   "source": [
    "## The [MIT](https://choosealicense.com/licenses/mit/) License\n",
    "Copyright &copy; 2017 Marko Manninen"
   ]
  }
 ],
 "metadata": {
  "kernelspec": {
   "display_name": "Python [conda root]",
   "language": "python",
   "name": "conda-root-py"
  },
  "language_info": {
   "codemirror_mode": {
    "name": "ipython",
    "version": 3
   },
   "file_extension": ".py",
   "mimetype": "text/x-python",
   "name": "python",
   "nbconvert_exporter": "python",
   "pygments_lexer": "ipython3",
   "version": "3.5.2"
  }
 },
 "nbformat": 4,
 "nbformat_minor": 1
}
