{
 "cells": [
  {
   "cell_type": "markdown",
   "metadata": {},
   "source": [
    "# Prepositional Logic Clause Parser (PLCParser)\n",
    "\n",
    "This library is used to parse string input that contains four fundamental [prepositional logic](https://en.wikipedia.org/wiki/Logical_conjunction) symbols: \n",
    "\n",
    "1. $AND$ ($\\&$)\n",
    "2. $OR$ ($|$)\n",
    "3. $NOT$ ($\\\\!$)\n",
    "4. $XOR$ (^)\n",
    "\n",
    "Library takes an input and produces a multidimensional list of given literals. Structure of the nested output list is created to contain all information required to use it programmatically for boolean operations. You can [deformat](#Deformat) well formatted list structure back to literal representation. Furthermore [evaluation](#Evaluate) of the give clause or structure can be done, when the interpretation table is given.\n",
    "\n",
    "Library is implemented in three languages: [Python](#Python-version), [PHP](#PHP-version) and [Javascript](#Javascript-version).\n",
    "\n",
    "## Python version\n",
    "\n",
    "### Simple example"
   ]
  },
  {
   "cell_type": "code",
   "execution_count": 1,
   "metadata": {
    "collapsed": false
   },
   "outputs": [
    {
     "name": "stdout",
     "output_type": "stream",
     "text": [
      "(True, [['1', '2']])\n"
     ]
    }
   ],
   "source": [
    "# load library\n",
    "from pyPLCParser import parseInput\n",
    "# set input\n",
    "i = \"(1 AND 2)\"\n",
    "# parse input\n",
    "o = parseInput(i)\n",
    "# print output\n",
    "print(o)"
   ]
  },
  {
   "cell_type": "markdown",
   "metadata": {},
   "source": [
    "From the output <code>(True, [['1', '2']])</code> we can read that mutual boolean starting point for the interpretation of the input is *and* which is *True*. This is the default starting point. You could also just simply input: <code>(1 2)</code> to get the same result.\n",
    "\n",
    "To demonstrate opposite starting point, let us use | character for OR operator. You can use either $AND, OR, NOT, XOR$ keywords or single characters on the clause:  $\\&$, $|$, $\\\\!$ or ^ respectively."
   ]
  },
  {
   "cell_type": "code",
   "execution_count": 2,
   "metadata": {
    "collapsed": false
   },
   "outputs": [
    {
     "data": {
      "text/plain": [
       "(False, [['1', '2']])"
      ]
     },
     "execution_count": 2,
     "metadata": {},
     "output_type": "execute_result"
    }
   ],
   "source": [
    "i = \"(1 | 2)\"\n",
    "parseInput(i)"
   ]
  },
  {
   "cell_type": "markdown",
   "metadata": {},
   "source": [
    "But say, you have a more complex nested clause in your hands, what is the outcome?"
   ]
  },
  {
   "cell_type": "code",
   "execution_count": 3,
   "metadata": {
    "collapsed": false
   },
   "outputs": [
    {
     "data": {
      "text/plain": [
       "(False, [['A', ['B', 'C', ['D', 'E']]]])"
      ]
     },
     "execution_count": 3,
     "metadata": {},
     "output_type": "execute_result"
    }
   ],
   "source": [
    "i = \"(A or (B C (D E)))\"\n",
    "parseInput(i)"
   ]
  },
  {
   "cell_type": "markdown",
   "metadata": {},
   "source": [
    "From the output we can read that the first level must be interpreted as an OR clause (<code>False</code>). It is actually the only mandatory boolean keyword you need to use here because the next level is automaticly regarded as an AND clause. Thus the deepest level (D E) is again an OR clause.\n",
    "\n",
    "If you don't give a keyword for the first level <code>(A or (B C (D E)))</code>, it is assumed to be AND, and the next level is OR, and the next AND, and so forth. \n",
    "\n",
    "This represents the important mutual boolean change of the interpretation of the nested levels. Most of the meaningful boolean clauses can be represented in this way. For example, if you consider this:\n",
    "\n",
    "<code>((A or B) and (C and D))</code>\n",
    "\n",
    "it would be inappropriate in syntax, because <code>(C and D)</code> is actually interpreted <code>(C or D)</code> by the parser. But right way would be to write it:\n",
    "\n",
    "<code>((A or B) and C and D)</code>\n",
    "\n",
    "or just\n",
    "\n",
    "<code>((A B) C D)</code>\n",
    "\n",
    "which of course looks a bit ambiguous at first, but is clear for the parser. PLCParser <u>does not</u> try to deformalize and interpret the [boolean operator precedence]( http://stackoverflow.com/questions/12494568/boolean-operators-precedence) in any other way. You have to decide and choose correctly format nested set / parentheses to get the right results. [Order of the precedence](https://en.wikipedia.org/wiki/Logical_connective#Order_of_precedence) differs by authors anyway."
   ]
  },
  {
   "cell_type": "markdown",
   "metadata": {},
   "source": [
    "### Literals\n",
    "\n",
    "In above examples only single word letters were used. That is ok as long as they are not reserved keywords or the chosen parenthesis and literal wrapper characters. To use sentences that contain spaces and special characters it is safer to make it this way:"
   ]
  },
  {
   "cell_type": "code",
   "execution_count": 4,
   "metadata": {
    "collapsed": false
   },
   "outputs": [
    {
     "data": {
      "text/plain": [
       "(True, [['Queen Elizabeth', 'Philip, Duke of Edinburgh']])"
      ]
     },
     "execution_count": 4,
     "metadata": {},
     "output_type": "execute_result"
    }
   ],
   "source": [
    "i = \"('Queen Elizabeth' & 'Philip, Duke of Edinburgh')\"\n",
    "parseInput(i)"
   ]
  },
  {
   "cell_type": "markdown",
   "metadata": {},
   "source": [
    "By default literals are expected to be wrapped with single ' or double \" quotes. Parentheses are assumed to be ().\n",
    "\n",
    "If default parentheses and literal wrappers are not suitable, you can change them and parse input accordingly:"
   ]
  },
  {
   "cell_type": "code",
   "execution_count": 5,
   "metadata": {
    "collapsed": false
   },
   "outputs": [
    {
     "data": {
      "text/plain": [
       "(True, [['Use', 'as you', 'wish']])"
      ]
     },
     "execution_count": 5,
     "metadata": {},
     "output_type": "execute_result"
    }
   ],
   "source": [
    "from pyPLCParser import PLCParser\n",
    "\n",
    "c = PLCParser(parentheses=['[', ']'], wrappers=['´'])\n",
    "\n",
    "i = \"[´Use´ ´as you´ wish]\"\n",
    "\n",
    "c.parse(i)"
   ]
  },
  {
   "cell_type": "markdown",
   "metadata": {},
   "source": [
    "### Negation and XOR\n",
    "\n",
    "Using negation (NOT/!) or XOR (^) keywords do shape the structure of the output. NOT will add -1 value to the result before the item or node. Similarly XOR will add 0 value to the list.\n",
    "\n",
    "Negation can be done for item or to the group of items:"
   ]
  },
  {
   "cell_type": "code",
   "execution_count": 6,
   "metadata": {
    "collapsed": false
   },
   "outputs": [
    {
     "data": {
      "text/plain": [
       "(True, [[-1, 'A', -1, ['B', 'C']]])"
      ]
     },
     "execution_count": 6,
     "metadata": {},
     "output_type": "execute_result"
    }
   ],
   "source": [
    "parseInput(\"\"\"\n",
    "\n",
    "(!A and !(B or C))\n",
    "\n",
    "\"\"\")"
   ]
  },
  {
   "cell_type": "markdown",
   "metadata": {},
   "source": [
    "Again same inut could be written many ways:\n",
    "\n",
    "<code>(!A and !B and !C) -> (!A !B !C)</code> \n",
    "\n",
    "<code>(!(A or B or C)) -> (!(A B C))</code> \n",
    "\n",
    "Note that the meaning of <code>!(A B C)</code> however is different. It means the negation of a group where all items A, B and C exists. If only one or two of the group items existed, then negation wouldn't be true.\n",
    "\n",
    "This brings us to the last XOR operator. XOR is an exclusive OR, which states that either A or B should exist, but not both at the same time. Same behaviour could be achieved by OR, AND, and NOT clause groups. Let us demonstrate it by few examples:"
   ]
  },
  {
   "cell_type": "code",
   "execution_count": 7,
   "metadata": {
    "collapsed": false
   },
   "outputs": [
    {
     "name": "stdout",
     "output_type": "stream",
     "text": [
      "(True, [[-2, ['A', 'B']]])\n",
      "(True, [[['A', 'B'], [-1, ['A', 'B']]]])\n",
      "(False, [[['A', -1, 'B'], [-1, 'A', 'B']]])\n",
      "(True, [[['A', -1, 'B'], [-1, 'A', 'B']]])\n"
     ]
    }
   ],
   "source": [
    "# xor logic -> one of the group, but not all\n",
    "i1 = '(^(A or B))' # or just (^(A B))\n",
    "o1 = parseInput(i1)\n",
    "print(o1)\n",
    "\n",
    "# xor logic with and, or, and not operators #1\n",
    "i2 = '((A or B) and (!(A and B)))'\n",
    "o2 = parseInput(i2)\n",
    "print(o2)\n",
    "\n",
    "# xor logic with and, or, and not operators #2\n",
    "i3 = '((A and !B) or (!A and B))'\n",
    "o3 = parseInput(i3)\n",
    "print(o3)\n",
    "\n",
    "# xor logic with and, or, and not operators #3\n",
    "i4 = '((A or !B) and (!A or B))'\n",
    "o4 = parseInput(i4)\n",
    "print(o4)"
   ]
  },
  {
   "cell_type": "markdown",
   "metadata": {},
   "source": [
    "Because XOR is a group operator in PLCParser, you can use it only before nested groups. That also means there can be more than two items in a group. Single item on a group on the other hand is a redundant formation."
   ]
  },
  {
   "cell_type": "code",
   "execution_count": 8,
   "metadata": {
    "collapsed": false
   },
   "outputs": [
    {
     "name": "stdout",
     "output_type": "stream",
     "text": [
      "(True, [[-2, ['A', 'B', 'C']]])\n",
      "(True, [[['A', 'B', 'C'], [-1, ['A', 'B', 'C']]]])\n",
      "(True, [[['A', -1, 'B', -1, 'C'], [-1, 'A', -1, 'B', 'C'], [-1, 'A', 'B', -1, 'C']]])\n"
     ]
    }
   ],
   "source": [
    "# xor logic -> one of the group, but not two or all\n",
    "i1 = '(^(A or B or C))'\n",
    "o1 = parseInput(i1)\n",
    "print(o1)\n",
    "\n",
    "# xor logic with and, or, and not operators #1\n",
    "i2 = '((A or B or C) and (!(A and B and C)))'\n",
    "o2 = parseInput(i2)\n",
    "print(o2)\n",
    "\n",
    "# xor logic with and, or, and not operators #2\n",
    "i2 = '((A or !B or !C) and (!A or !B or C) and (!A or B or !C))'\n",
    "o2 = parseInput(i2)\n",
    "print(o2)"
   ]
  },
  {
   "cell_type": "markdown",
   "metadata": {},
   "source": [
    "Apparently using XOR can save a lot of space!"
   ]
  },
  {
   "cell_type": "markdown",
   "metadata": {},
   "source": [
    "### Deformat\n",
    "\n",
    "Of cource it is good to have a method to deformat native list structure back to the string clause representation.\n",
    "\n",
    "With an optional argument, one can user special character abbreviations for logic operators. By default formal keywords are used on output. Lastly one can decide to use only the first level keyword if output should be as concise as possible."
   ]
  },
  {
   "cell_type": "code",
   "execution_count": 9,
   "metadata": {
    "collapsed": true
   },
   "outputs": [],
   "source": [
    "from pyPLCParser import PLCParser\n",
    "c = PLCParser()\n",
    "i = [True, [['A', 'B']]]\n",
    "c.deFormat(i, short=False, firstOnly=False)\n",
    "# -> ('A' and 'B')"
   ]
  },
  {
   "cell_type": "markdown",
   "metadata": {},
   "source": [
    "### Evaluate"
   ]
  },
  {
   "cell_type": "code",
   "execution_count": 10,
   "metadata": {
    "collapsed": false
   },
   "outputs": [
    {
     "name": "stdout",
     "output_type": "stream",
     "text": [
      "(1 or 0) => True\n",
      "(1 and 0) => False\n",
      "(true and false) => False\n",
      "(A and B) => False\n"
     ]
    }
   ],
   "source": [
    "from pyPLCParser import evaluateInput\n",
    "\n",
    "i = \"(1 or 0)\"\n",
    "o = evaluateInput(i)\n",
    "print(\"%s => %s\" % (i, o))\n",
    "\n",
    "i = \"(1 and 0)\"\n",
    "o = evaluateInput(i)\n",
    "print(\"%s => %s\" % (i, o))\n",
    "\n",
    "i = \"(true and false)\"\n",
    "o = evaluateInput(i)\n",
    "print(\"%s => %s\" % (i, o))\n",
    "\n",
    "i = \"(A and B)\"\n",
    "o = evaluateInput(i, {'A': True, 'B': False})\n",
    "print(\"%s => %s\" % (i, o))"
   ]
  },
  {
   "cell_type": "markdown",
   "metadata": {},
   "source": [
    "## PHP version\n",
    "\n",
    "PHP version of the PLCParser class is practically same as Python having exactly same functionality."
   ]
  },
  {
   "cell_type": "code",
   "execution_count": 11,
   "metadata": {
    "collapsed": false
   },
   "outputs": [
    {
     "data": {
      "text/html": [
       "\n",
       "require_once('./src/elonmedia/plcparser/php/PLCParser.php')\n",
       "print_r(PLCParser::parseInput(\"('A' or 'B')\"));"
      ],
      "text/plain": [
       "<IPython.core.display.HTML object>"
      ]
     },
     "metadata": {},
     "output_type": "display_data"
    }
   ],
   "source": [
    "%%html\n",
    "\n",
    "require_once('./src/elonmedia/plcparser/php/PLCParser.php')\n",
    "print_r(PLCParser::parseInput(\"('A' or 'B')\"));"
   ]
  },
  {
   "cell_type": "code",
   "execution_count": 12,
   "metadata": {
    "collapsed": false
   },
   "outputs": [
    {
     "data": {
      "text/html": [
       "Array\n",
       "(\n",
       "    [0] => \n",
       "    [1] => Array\n",
       "        (\n",
       "            [0] => Array\n",
       "                (\n",
       "                    [0] => Array\n",
       "                        (\n",
       "                            [0] => A\n",
       "                            [2] => B\n",
       "                        )\n",
       "\n",
       "                )\n",
       "\n",
       "        )\n",
       "\n",
       ")"
      ],
      "text/plain": [
       "<IPython.core.display.HTML object>"
      ]
     },
     "metadata": {},
     "output_type": "display_data"
    }
   ],
   "source": [
    "%%html\n",
    "Array\n",
    "(\n",
    "    [0] => \n",
    "    [1] => Array\n",
    "        (\n",
    "            [0] => Array\n",
    "                (\n",
    "                    [0] => Array\n",
    "                        (\n",
    "                            [0] => A\n",
    "                            [2] => B\n",
    "                        )\n",
    "\n",
    "                )\n",
    "\n",
    "        )\n",
    "\n",
    ")"
   ]
  },
  {
   "cell_type": "markdown",
   "metadata": {},
   "source": [
    "## Javascript version"
   ]
  },
  {
   "cell_type": "code",
   "execution_count": 13,
   "metadata": {
    "collapsed": false
   },
   "outputs": [
    {
     "data": {
      "text/html": [
       "\n",
       "<script src=\"./dist/PLCParser.min.js\"></script>\n",
       "\n",
       "<script>\n",
       "\n",
       "var o = PLCParser.parseInput(\"('A' or 'B')\");\n",
       "\n",
       "console.log(o);\n",
       "\n",
       "</script>"
      ],
      "text/plain": [
       "<IPython.core.display.HTML object>"
      ]
     },
     "metadata": {},
     "output_type": "display_data"
    }
   ],
   "source": [
    "%%html\n",
    "\n",
    "<script src=\"./dist/PLCParser.min.js\"></script>\n",
    "\n",
    "<script>\n",
    "\n",
    "var o = PLCParser.parseInput(\"('A' or 'B')\");\n",
    "\n",
    "console.log(o);\n",
    "\n",
    "</script>"
   ]
  },
  {
   "cell_type": "markdown",
   "metadata": {},
   "source": [
    "## Tests\n",
    "\n",
    "Asserts beow should not raise any errors, so if tests are ok, then there should be no output."
   ]
  },
  {
   "cell_type": "code",
   "execution_count": 14,
   "metadata": {
    "collapsed": false
   },
   "outputs": [],
   "source": [
    "assert parseInput(\"\") == (True, [])\n",
    "assert parseInput(\"and or ! anything\") == (True, [])\n",
    "\n",
    "assert parseInput(\"()\") == (True, [[]])\n",
    "\n",
    "assert parseInput(\"( 'and' 'or' 'not' 'xor' '&' '|' '!' '^')\") == \\\n",
    "                  (True, [['and', 'or', 'not', 'xor', '&', '|', '!', '^']])\n",
    "assert parseInput('( \"and\" \"or\" \"not\" \"xor\" \"&\" \"|\" \"!\" \"^\")') == \\\n",
    "                  (True, [['and', 'or', 'not', 'xor', '&', '|', '!', '^']])\n",
    "\n",
    "assert parseInput(\"( A B )\") == (True, [['A', 'B']])\n",
    "assert parseInput(\"( 'A' 'B' )\") == (True, [['A', 'B']])\n",
    "assert parseInput(\"( 'A' and 'B' )\") == (True, [['A', 'B']])\n",
    "assert parseInput(\"( 'A' & 'B' )\") == (True, [['A', 'B']])\n",
    "\n",
    "assert parseInput(\"( A or B )\") == (False, [['A', 'B']])\n",
    "assert parseInput(\"( A | B )\") == (False, [['A', 'B']])\n",
    "\n",
    "assert parseInput(\"(( 'A' and 'B' ) OR (A B))\") == (False, [[['A', 'B'], ['A', 'B']]])\n",
    "\n",
    "assert parseInput(\"( 'A' 'B' ('A' 'C'))\") == (True, [['A', 'B', ['A', 'C']]])\n",
    "assert parseInput(\"( 'A' and 'B' and ('A' or 'C'))\") == (True, [['A', 'B', ['A', 'C']]])\n",
    "assert parseInput(\"( 'A' or 'B' or ('A' and 'C'))\") == (False, [['A', 'B', ['A', 'C']]])\n",
    "assert parseInput(\"( 'A' or 'B' or ('A' 'C'))\") == (False, [['A', 'B', ['A', 'C']]])\n",
    "assert parseInput(\"( 'A' or 'B' ('A' 'C'))\") == (False, [['A', 'B', ['A', 'C']]])\n",
    "assert parseInput(\"( 'A' 'B' or ('A' 'C'))\") == (False, [['A', 'B', ['A', 'C']]])\n",
    "\n",
    "assert parseInput(\"( 'A\\\\'')\") == (True, [[\"A'\"]])\n",
    "assert parseInput('( \"A\\\\\"\")') == (True, [['A\"']])\n",
    "assert parseInput(\"( 'A(B)')\") == (True, [['A(B)']])\n",
    "\n",
    "assert parseInput('( ( \"M\" AND ( \"(\" or \"AND\" ) ) OR \"T\" )') == \\\n",
    "                  (False, [[['M', ['(', 'AND']], 'T']])\n",
    "assert parseInput('( ( \"M\" AND ( \"(\" OR \"AND\" ) ) OR \\'T\\' )') == \\\n",
    "                  (False, [[['M', ['(', 'AND']], 'T']])\n",
    "\n",
    "assert parseInput('( 1 2 )') == (True, [['1', '2']])\n",
    "assert parseInput('( 1.0 2.0 )') == (True, [['1.0', '2.0']])\n",
    "assert parseInput('( 1,0 2,0 )') == (True, [['1,0', '2,0']])\n",
    "assert parseInput('( 12*12 2.0-1.0 )') == (True, [['12*12', '2.0-1.0']])\n",
    "\n",
    "assert parseInput(\"(!a b)\") == (True, [[-1, 'a', 'b']])\n",
    "assert parseInput(\"(!(a b))\") == (True, [[-1, ['a', 'b']]])\n",
    "assert parseInput(\"(!(a | b))\") == (True, [[-1, ['a', 'b']]])\n",
    "assert parseInput(\"((!(a b)))\") == (True, [[[-1, ['a', 'b']]]])\n",
    "assert parseInput(\"!(a | b)\") == (False, [-1, ['a', 'b']])\n",
    "assert parseInput(\"!!(a | b)\") == (False, [-1, -1, ['a', 'b']])\n",
    "\n",
    "assert parseInput(\"^(a b)\") == (True, [-2, ['a', 'b']])\n",
    "assert parseInput(\"(^(a b))\") == (True, [[-2, ['a', 'b']]])\n",
    "assert parseInput(\"((^(a b)))\") == (True, [[[-2, ['a', 'b']]]])\n",
    "assert parseInput(\"((xor(a b)))\") == (True, [[[-2, ['a', 'b']]]])\n",
    "\n",
    "assert parseInput(\"^!(a b)\") == (True, [-2, -1, ['a', 'b']])\n",
    "assert parseInput('( ! ( ! a ! b ) )') == (True, [[-1, [-1, 'a', -1, 'b']]])\n",
    "assert parseInput('( not ( not a not b ) )') == (True, [[-1, [-1, 'a', -1, 'b']]])\n",
    "\n",
    "# different parentheses and string literal wrappers\n",
    "from pyPLCParser import PLCParser\n",
    "\n",
    "c = PLCParser(parentheses=['[', ']'], wrappers=['´'])\n",
    "\n",
    "assert c.parse(\"(´A´)\") == (True, [])\n",
    "assert c.parse(\"['A']\") == (True, [[\"'A'\"]])\n",
    "assert c.parse(\"[´A´]\") == (True, [['A']])"
   ]
  },
  {
   "cell_type": "markdown",
   "metadata": {},
   "source": [
    "## The [MIT](https://choosealicense.com/licenses/mit/) License\n",
    "Copyright &copy; 2017 Marko Manninen"
   ]
  }
 ],
 "metadata": {
  "anaconda-cloud": {},
  "kernelspec": {
   "display_name": "Python [conda root]",
   "language": "python",
   "name": "conda-root-py"
  },
  "language_info": {
   "codemirror_mode": {
    "name": "ipython",
    "version": 3
   },
   "file_extension": ".py",
   "mimetype": "text/x-python",
   "name": "python",
   "nbconvert_exporter": "python",
   "pygments_lexer": "ipython3",
   "version": "3.5.2"
  }
 },
 "nbformat": 4,
 "nbformat_minor": 1
}
